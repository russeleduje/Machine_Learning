{
 "cells": [
  {
   "cell_type": "markdown",
   "metadata": {
    "id": "Oh7pm6HYX7Um"
   },
   "source": [
    "## Importing the libraries"
   ]
  },
  {
   "cell_type": "code",
   "execution_count": 1,
   "metadata": {
    "id": "NdCwp1KRX7Uv"
   },
   "outputs": [],
   "source": [
    "import numpy as np\n",
    "import matplotlib.pyplot as plt\n",
    "import pandas as pd"
   ]
  },
  {
   "cell_type": "markdown",
   "metadata": {
    "id": "Xgp5oFvtX7Uw"
   },
   "source": [
    "## Importing the dataset"
   ]
  },
  {
   "cell_type": "code",
   "execution_count": 2,
   "metadata": {
    "id": "WcbKyrmIX7Ux"
   },
   "outputs": [],
   "source": [
    "dataset = pd.read_csv('Donor_Raw_Data.csv') "
   ]
  },
  {
   "cell_type": "code",
   "execution_count": 3,
   "metadata": {
    "colab": {
     "base_uri": "https://localhost:8080/",
     "height": 224
    },
    "id": "D4hsqn59YqST",
    "outputId": "ced62951-3a05-4aac-ee35-7bd3a432d0e6"
   },
   "outputs": [
    {
     "data": {
      "text/html": [
       "<div>\n",
       "<style scoped>\n",
       "    .dataframe tbody tr th:only-of-type {\n",
       "        vertical-align: middle;\n",
       "    }\n",
       "\n",
       "    .dataframe tbody tr th {\n",
       "        vertical-align: top;\n",
       "    }\n",
       "\n",
       "    .dataframe thead th {\n",
       "        text-align: right;\n",
       "    }\n",
       "</style>\n",
       "<table border=\"1\" class=\"dataframe\">\n",
       "  <thead>\n",
       "    <tr style=\"text-align: right;\">\n",
       "      <th></th>\n",
       "      <th>TARGET_B</th>\n",
       "      <th>TARGET_D</th>\n",
       "      <th>CONTROL_NUMBER</th>\n",
       "      <th>MONTHS_SINCE_ORIGIN</th>\n",
       "      <th>DONOR_AGE</th>\n",
       "      <th>IN_HOUSE</th>\n",
       "      <th>URBANICITY</th>\n",
       "      <th>SES</th>\n",
       "      <th>CLUSTER_CODE</th>\n",
       "      <th>HOME_OWNER</th>\n",
       "      <th>...</th>\n",
       "      <th>LIFETIME_GIFT_RANGE</th>\n",
       "      <th>LIFETIME_MAX_GIFT_AMT</th>\n",
       "      <th>LIFETIME_MIN_GIFT_AMT</th>\n",
       "      <th>LAST_GIFT_AMT</th>\n",
       "      <th>CARD_PROM_12</th>\n",
       "      <th>NUMBER_PROM_12</th>\n",
       "      <th>MONTHS_SINCE_LAST_GIFT</th>\n",
       "      <th>MONTHS_SINCE_FIRST_GIFT</th>\n",
       "      <th>FILE_AVG_GIFT</th>\n",
       "      <th>FILE_CARD_GIFT</th>\n",
       "    </tr>\n",
       "  </thead>\n",
       "  <tbody>\n",
       "    <tr>\n",
       "      <th>0</th>\n",
       "      <td>0</td>\n",
       "      <td>NaN</td>\n",
       "      <td>5</td>\n",
       "      <td>101</td>\n",
       "      <td>87.0</td>\n",
       "      <td>0</td>\n",
       "      <td>?</td>\n",
       "      <td>?</td>\n",
       "      <td>.</td>\n",
       "      <td>H</td>\n",
       "      <td>...</td>\n",
       "      <td>15.0</td>\n",
       "      <td>20.0</td>\n",
       "      <td>5.0</td>\n",
       "      <td>15.0</td>\n",
       "      <td>5</td>\n",
       "      <td>12</td>\n",
       "      <td>26</td>\n",
       "      <td>92</td>\n",
       "      <td>8.49</td>\n",
       "      <td>7</td>\n",
       "    </tr>\n",
       "    <tr>\n",
       "      <th>1</th>\n",
       "      <td>1</td>\n",
       "      <td>10.0</td>\n",
       "      <td>12</td>\n",
       "      <td>137</td>\n",
       "      <td>79.0</td>\n",
       "      <td>0</td>\n",
       "      <td>R</td>\n",
       "      <td>2</td>\n",
       "      <td>45</td>\n",
       "      <td>H</td>\n",
       "      <td>...</td>\n",
       "      <td>20.0</td>\n",
       "      <td>25.0</td>\n",
       "      <td>5.0</td>\n",
       "      <td>17.0</td>\n",
       "      <td>7</td>\n",
       "      <td>21</td>\n",
       "      <td>7</td>\n",
       "      <td>122</td>\n",
       "      <td>14.72</td>\n",
       "      <td>12</td>\n",
       "    </tr>\n",
       "    <tr>\n",
       "      <th>2</th>\n",
       "      <td>0</td>\n",
       "      <td>NaN</td>\n",
       "      <td>37</td>\n",
       "      <td>113</td>\n",
       "      <td>75.0</td>\n",
       "      <td>0</td>\n",
       "      <td>S</td>\n",
       "      <td>1</td>\n",
       "      <td>11</td>\n",
       "      <td>H</td>\n",
       "      <td>...</td>\n",
       "      <td>23.0</td>\n",
       "      <td>28.0</td>\n",
       "      <td>5.0</td>\n",
       "      <td>19.0</td>\n",
       "      <td>11</td>\n",
       "      <td>32</td>\n",
       "      <td>6</td>\n",
       "      <td>105</td>\n",
       "      <td>16.75</td>\n",
       "      <td>16</td>\n",
       "    </tr>\n",
       "    <tr>\n",
       "      <th>3</th>\n",
       "      <td>0</td>\n",
       "      <td>NaN</td>\n",
       "      <td>38</td>\n",
       "      <td>92</td>\n",
       "      <td>NaN</td>\n",
       "      <td>0</td>\n",
       "      <td>U</td>\n",
       "      <td>2</td>\n",
       "      <td>04</td>\n",
       "      <td>H</td>\n",
       "      <td>...</td>\n",
       "      <td>14.0</td>\n",
       "      <td>17.0</td>\n",
       "      <td>3.0</td>\n",
       "      <td>15.0</td>\n",
       "      <td>11</td>\n",
       "      <td>33</td>\n",
       "      <td>6</td>\n",
       "      <td>92</td>\n",
       "      <td>11.76</td>\n",
       "      <td>12</td>\n",
       "    </tr>\n",
       "    <tr>\n",
       "      <th>4</th>\n",
       "      <td>0</td>\n",
       "      <td>NaN</td>\n",
       "      <td>41</td>\n",
       "      <td>101</td>\n",
       "      <td>74.0</td>\n",
       "      <td>0</td>\n",
       "      <td>R</td>\n",
       "      <td>2</td>\n",
       "      <td>49</td>\n",
       "      <td>U</td>\n",
       "      <td>...</td>\n",
       "      <td>20.0</td>\n",
       "      <td>25.0</td>\n",
       "      <td>5.0</td>\n",
       "      <td>25.0</td>\n",
       "      <td>6</td>\n",
       "      <td>19</td>\n",
       "      <td>18</td>\n",
       "      <td>92</td>\n",
       "      <td>8.83</td>\n",
       "      <td>3</td>\n",
       "    </tr>\n",
       "  </tbody>\n",
       "</table>\n",
       "<p>5 rows × 50 columns</p>\n",
       "</div>"
      ],
      "text/plain": [
       "   TARGET_B  TARGET_D  CONTROL_NUMBER  MONTHS_SINCE_ORIGIN  DONOR_AGE  \\\n",
       "0         0       NaN               5                  101       87.0   \n",
       "1         1      10.0              12                  137       79.0   \n",
       "2         0       NaN              37                  113       75.0   \n",
       "3         0       NaN              38                   92        NaN   \n",
       "4         0       NaN              41                  101       74.0   \n",
       "\n",
       "   IN_HOUSE URBANICITY SES CLUSTER_CODE HOME_OWNER       ...        \\\n",
       "0         0          ?   ?            .          H       ...         \n",
       "1         0          R   2           45          H       ...         \n",
       "2         0          S   1           11          H       ...         \n",
       "3         0          U   2           04          H       ...         \n",
       "4         0          R   2           49          U       ...         \n",
       "\n",
       "  LIFETIME_GIFT_RANGE  LIFETIME_MAX_GIFT_AMT  LIFETIME_MIN_GIFT_AMT  \\\n",
       "0                15.0                   20.0                    5.0   \n",
       "1                20.0                   25.0                    5.0   \n",
       "2                23.0                   28.0                    5.0   \n",
       "3                14.0                   17.0                    3.0   \n",
       "4                20.0                   25.0                    5.0   \n",
       "\n",
       "  LAST_GIFT_AMT  CARD_PROM_12  NUMBER_PROM_12  MONTHS_SINCE_LAST_GIFT  \\\n",
       "0          15.0             5              12                      26   \n",
       "1          17.0             7              21                       7   \n",
       "2          19.0            11              32                       6   \n",
       "3          15.0            11              33                       6   \n",
       "4          25.0             6              19                      18   \n",
       "\n",
       "   MONTHS_SINCE_FIRST_GIFT  FILE_AVG_GIFT  FILE_CARD_GIFT  \n",
       "0                       92           8.49               7  \n",
       "1                      122          14.72              12  \n",
       "2                      105          16.75              16  \n",
       "3                       92          11.76              12  \n",
       "4                       92           8.83               3  \n",
       "\n",
       "[5 rows x 50 columns]"
      ]
     },
     "execution_count": 3,
     "metadata": {},
     "output_type": "execute_result"
    }
   ],
   "source": [
    "dataset.head()"
   ]
  },
  {
   "cell_type": "markdown",
   "metadata": {
    "id": "Jghe8oDzVJQk"
   },
   "source": [
    "**What type of data is the dataset?**"
   ]
  },
  {
   "cell_type": "code",
   "execution_count": 4,
   "metadata": {
    "colab": {
     "base_uri": "https://localhost:8080/"
    },
    "id": "PPFzIJScYuTh",
    "outputId": "cadc6439-a799-498f-8aa5-477c69f9c2db"
   },
   "outputs": [
    {
     "name": "stdout",
     "output_type": "stream",
     "text": [
      "<class 'pandas.core.frame.DataFrame'>\n",
      "RangeIndex: 19372 entries, 0 to 19371\n",
      "Data columns (total 50 columns):\n",
      "TARGET_B                       19372 non-null int64\n",
      "TARGET_D                       4843 non-null float64\n",
      "CONTROL_NUMBER                 19372 non-null int64\n",
      "MONTHS_SINCE_ORIGIN            19372 non-null int64\n",
      "DONOR_AGE                      14577 non-null float64\n",
      "IN_HOUSE                       19372 non-null int64\n",
      "URBANICITY                     19372 non-null object\n",
      "SES                            19372 non-null object\n",
      "CLUSTER_CODE                   19372 non-null object\n",
      "HOME_OWNER                     19372 non-null object\n",
      "DONOR_GENDER                   19372 non-null object\n",
      "INCOME_GROUP                   14980 non-null float64\n",
      "PUBLISHED_PHONE                19372 non-null int64\n",
      "OVERLAY_SOURCE                 19372 non-null object\n",
      "MOR_HIT_RATE                   19372 non-null int64\n",
      "WEALTH_RATING                  10562 non-null float64\n",
      "MEDIAN_HOME_VALUE              19372 non-null int64\n",
      "MEDIAN_HOUSEHOLD_INCOME        19372 non-null int64\n",
      "PCT_OWNER_OCCUPIED             19372 non-null int64\n",
      "PER_CAPITA_INCOME              19372 non-null int64\n",
      "PCT_ATTRIBUTE1                 19372 non-null int64\n",
      "PCT_ATTRIBUTE2                 19372 non-null int64\n",
      "PCT_ATTRIBUTE3                 19372 non-null int64\n",
      "PCT_ATTRIBUTE4                 19372 non-null int64\n",
      "PEP_STAR                       19372 non-null int64\n",
      "RECENT_STAR_STATUS             19372 non-null int64\n",
      "RECENCY_STATUS_96NK            19372 non-null object\n",
      "FREQUENCY_STATUS_97NK          19372 non-null int64\n",
      "RECENT_RESPONSE_PROP           19372 non-null float64\n",
      "RECENT_AVG_GIFT_AMT            19372 non-null float64\n",
      "RECENT_CARD_RESPONSE_PROP      19372 non-null float64\n",
      "RECENT_AVG_CARD_GIFT_AMT       19372 non-null float64\n",
      "RECENT_RESPONSE_COUNT          19372 non-null int64\n",
      "RECENT_CARD_RESPONSE_COUNT     19372 non-null int64\n",
      "MONTHS_SINCE_LAST_PROM_RESP    19126 non-null float64\n",
      "LIFETIME_CARD_PROM             19372 non-null int64\n",
      "LIFETIME_PROM                  19372 non-null int64\n",
      "LIFETIME_GIFT_AMOUNT           19372 non-null float64\n",
      "LIFETIME_GIFT_COUNT            19372 non-null int64\n",
      "LIFETIME_AVG_GIFT_AMT          19372 non-null float64\n",
      "LIFETIME_GIFT_RANGE            19372 non-null float64\n",
      "LIFETIME_MAX_GIFT_AMT          19372 non-null float64\n",
      "LIFETIME_MIN_GIFT_AMT          19372 non-null float64\n",
      "LAST_GIFT_AMT                  19372 non-null float64\n",
      "CARD_PROM_12                   19372 non-null int64\n",
      "NUMBER_PROM_12                 19372 non-null int64\n",
      "MONTHS_SINCE_LAST_GIFT         19372 non-null int64\n",
      "MONTHS_SINCE_FIRST_GIFT        19372 non-null int64\n",
      "FILE_AVG_GIFT                  19372 non-null float64\n",
      "FILE_CARD_GIFT                 19372 non-null int64\n",
      "dtypes: float64(16), int64(27), object(7)\n",
      "memory usage: 7.4+ MB\n"
     ]
    }
   ],
   "source": [
    "dataset.info()"
   ]
  },
  {
   "cell_type": "code",
   "execution_count": 5,
   "metadata": {
    "colab": {
     "base_uri": "https://localhost:8080/",
     "height": 317
    },
    "id": "q1_jcL9vYzLb",
    "outputId": "3906d837-f692-45e6-b144-ac1194af8775"
   },
   "outputs": [
    {
     "data": {
      "text/html": [
       "<div>\n",
       "<style scoped>\n",
       "    .dataframe tbody tr th:only-of-type {\n",
       "        vertical-align: middle;\n",
       "    }\n",
       "\n",
       "    .dataframe tbody tr th {\n",
       "        vertical-align: top;\n",
       "    }\n",
       "\n",
       "    .dataframe thead th {\n",
       "        text-align: right;\n",
       "    }\n",
       "</style>\n",
       "<table border=\"1\" class=\"dataframe\">\n",
       "  <thead>\n",
       "    <tr style=\"text-align: right;\">\n",
       "      <th></th>\n",
       "      <th>TARGET_B</th>\n",
       "      <th>TARGET_D</th>\n",
       "      <th>CONTROL_NUMBER</th>\n",
       "      <th>MONTHS_SINCE_ORIGIN</th>\n",
       "      <th>DONOR_AGE</th>\n",
       "      <th>IN_HOUSE</th>\n",
       "      <th>INCOME_GROUP</th>\n",
       "      <th>PUBLISHED_PHONE</th>\n",
       "      <th>MOR_HIT_RATE</th>\n",
       "      <th>WEALTH_RATING</th>\n",
       "      <th>...</th>\n",
       "      <th>LIFETIME_GIFT_RANGE</th>\n",
       "      <th>LIFETIME_MAX_GIFT_AMT</th>\n",
       "      <th>LIFETIME_MIN_GIFT_AMT</th>\n",
       "      <th>LAST_GIFT_AMT</th>\n",
       "      <th>CARD_PROM_12</th>\n",
       "      <th>NUMBER_PROM_12</th>\n",
       "      <th>MONTHS_SINCE_LAST_GIFT</th>\n",
       "      <th>MONTHS_SINCE_FIRST_GIFT</th>\n",
       "      <th>FILE_AVG_GIFT</th>\n",
       "      <th>FILE_CARD_GIFT</th>\n",
       "    </tr>\n",
       "  </thead>\n",
       "  <tbody>\n",
       "    <tr>\n",
       "      <th>count</th>\n",
       "      <td>19372.000000</td>\n",
       "      <td>4843.000000</td>\n",
       "      <td>19372.000000</td>\n",
       "      <td>19372.000000</td>\n",
       "      <td>14577.000000</td>\n",
       "      <td>19372.000000</td>\n",
       "      <td>14980.000000</td>\n",
       "      <td>19372.000000</td>\n",
       "      <td>19372.000000</td>\n",
       "      <td>10562.000000</td>\n",
       "      <td>...</td>\n",
       "      <td>19372.000000</td>\n",
       "      <td>19372.000000</td>\n",
       "      <td>19372.000000</td>\n",
       "      <td>19372.000000</td>\n",
       "      <td>19372.000000</td>\n",
       "      <td>19372.000000</td>\n",
       "      <td>19372.000000</td>\n",
       "      <td>19372.000000</td>\n",
       "      <td>19372.000000</td>\n",
       "      <td>19372.000000</td>\n",
       "    </tr>\n",
       "    <tr>\n",
       "      <th>mean</th>\n",
       "      <td>0.250000</td>\n",
       "      <td>15.624344</td>\n",
       "      <td>96546.225377</td>\n",
       "      <td>73.409973</td>\n",
       "      <td>58.919051</td>\n",
       "      <td>0.073198</td>\n",
       "      <td>3.907543</td>\n",
       "      <td>0.497729</td>\n",
       "      <td>3.361656</td>\n",
       "      <td>5.005397</td>\n",
       "      <td>...</td>\n",
       "      <td>11.587876</td>\n",
       "      <td>19.208808</td>\n",
       "      <td>7.620932</td>\n",
       "      <td>16.584199</td>\n",
       "      <td>5.367128</td>\n",
       "      <td>12.901869</td>\n",
       "      <td>18.191152</td>\n",
       "      <td>69.482088</td>\n",
       "      <td>12.858338</td>\n",
       "      <td>5.273591</td>\n",
       "    </tr>\n",
       "    <tr>\n",
       "      <th>std</th>\n",
       "      <td>0.433024</td>\n",
       "      <td>12.445137</td>\n",
       "      <td>55830.643871</td>\n",
       "      <td>41.255574</td>\n",
       "      <td>16.669382</td>\n",
       "      <td>0.260469</td>\n",
       "      <td>1.864796</td>\n",
       "      <td>0.500008</td>\n",
       "      <td>9.503481</td>\n",
       "      <td>2.815386</td>\n",
       "      <td>...</td>\n",
       "      <td>15.116893</td>\n",
       "      <td>16.101128</td>\n",
       "      <td>7.959786</td>\n",
       "      <td>11.977558</td>\n",
       "      <td>1.264205</td>\n",
       "      <td>4.642072</td>\n",
       "      <td>4.033065</td>\n",
       "      <td>37.568169</td>\n",
       "      <td>8.787758</td>\n",
       "      <td>4.607063</td>\n",
       "    </tr>\n",
       "    <tr>\n",
       "      <th>min</th>\n",
       "      <td>0.000000</td>\n",
       "      <td>1.000000</td>\n",
       "      <td>5.000000</td>\n",
       "      <td>5.000000</td>\n",
       "      <td>0.000000</td>\n",
       "      <td>0.000000</td>\n",
       "      <td>1.000000</td>\n",
       "      <td>0.000000</td>\n",
       "      <td>0.000000</td>\n",
       "      <td>0.000000</td>\n",
       "      <td>...</td>\n",
       "      <td>0.000000</td>\n",
       "      <td>5.000000</td>\n",
       "      <td>0.000000</td>\n",
       "      <td>0.000000</td>\n",
       "      <td>0.000000</td>\n",
       "      <td>2.000000</td>\n",
       "      <td>4.000000</td>\n",
       "      <td>15.000000</td>\n",
       "      <td>1.360000</td>\n",
       "      <td>0.000000</td>\n",
       "    </tr>\n",
       "    <tr>\n",
       "      <th>25%</th>\n",
       "      <td>0.000000</td>\n",
       "      <td>10.000000</td>\n",
       "      <td>48289.000000</td>\n",
       "      <td>29.000000</td>\n",
       "      <td>47.000000</td>\n",
       "      <td>0.000000</td>\n",
       "      <td>2.000000</td>\n",
       "      <td>0.000000</td>\n",
       "      <td>0.000000</td>\n",
       "      <td>3.000000</td>\n",
       "      <td>...</td>\n",
       "      <td>5.000000</td>\n",
       "      <td>12.000000</td>\n",
       "      <td>3.000000</td>\n",
       "      <td>10.000000</td>\n",
       "      <td>5.000000</td>\n",
       "      <td>11.000000</td>\n",
       "      <td>16.000000</td>\n",
       "      <td>33.000000</td>\n",
       "      <td>8.000000</td>\n",
       "      <td>2.000000</td>\n",
       "    </tr>\n",
       "    <tr>\n",
       "      <th>50%</th>\n",
       "      <td>0.000000</td>\n",
       "      <td>13.000000</td>\n",
       "      <td>96937.000000</td>\n",
       "      <td>65.000000</td>\n",
       "      <td>60.000000</td>\n",
       "      <td>0.000000</td>\n",
       "      <td>4.000000</td>\n",
       "      <td>0.000000</td>\n",
       "      <td>0.000000</td>\n",
       "      <td>5.000000</td>\n",
       "      <td>...</td>\n",
       "      <td>10.000000</td>\n",
       "      <td>16.000000</td>\n",
       "      <td>5.000000</td>\n",
       "      <td>15.000000</td>\n",
       "      <td>6.000000</td>\n",
       "      <td>12.000000</td>\n",
       "      <td>18.000000</td>\n",
       "      <td>65.000000</td>\n",
       "      <td>11.200000</td>\n",
       "      <td>4.000000</td>\n",
       "    </tr>\n",
       "    <tr>\n",
       "      <th>75%</th>\n",
       "      <td>0.250000</td>\n",
       "      <td>20.000000</td>\n",
       "      <td>145429.500000</td>\n",
       "      <td>113.000000</td>\n",
       "      <td>73.000000</td>\n",
       "      <td>0.000000</td>\n",
       "      <td>5.000000</td>\n",
       "      <td>1.000000</td>\n",
       "      <td>3.000000</td>\n",
       "      <td>7.000000</td>\n",
       "      <td>...</td>\n",
       "      <td>15.000000</td>\n",
       "      <td>21.000000</td>\n",
       "      <td>10.000000</td>\n",
       "      <td>20.000000</td>\n",
       "      <td>6.000000</td>\n",
       "      <td>13.000000</td>\n",
       "      <td>20.000000</td>\n",
       "      <td>105.000000</td>\n",
       "      <td>15.000000</td>\n",
       "      <td>8.000000</td>\n",
       "    </tr>\n",
       "    <tr>\n",
       "      <th>max</th>\n",
       "      <td>1.000000</td>\n",
       "      <td>200.000000</td>\n",
       "      <td>191779.000000</td>\n",
       "      <td>137.000000</td>\n",
       "      <td>87.000000</td>\n",
       "      <td>1.000000</td>\n",
       "      <td>7.000000</td>\n",
       "      <td>1.000000</td>\n",
       "      <td>241.000000</td>\n",
       "      <td>9.000000</td>\n",
       "      <td>...</td>\n",
       "      <td>997.000000</td>\n",
       "      <td>1000.000000</td>\n",
       "      <td>450.000000</td>\n",
       "      <td>450.000000</td>\n",
       "      <td>17.000000</td>\n",
       "      <td>64.000000</td>\n",
       "      <td>27.000000</td>\n",
       "      <td>260.000000</td>\n",
       "      <td>450.000000</td>\n",
       "      <td>41.000000</td>\n",
       "    </tr>\n",
       "  </tbody>\n",
       "</table>\n",
       "<p>8 rows × 43 columns</p>\n",
       "</div>"
      ],
      "text/plain": [
       "           TARGET_B     TARGET_D  CONTROL_NUMBER  MONTHS_SINCE_ORIGIN  \\\n",
       "count  19372.000000  4843.000000    19372.000000         19372.000000   \n",
       "mean       0.250000    15.624344    96546.225377            73.409973   \n",
       "std        0.433024    12.445137    55830.643871            41.255574   \n",
       "min        0.000000     1.000000        5.000000             5.000000   \n",
       "25%        0.000000    10.000000    48289.000000            29.000000   \n",
       "50%        0.000000    13.000000    96937.000000            65.000000   \n",
       "75%        0.250000    20.000000   145429.500000           113.000000   \n",
       "max        1.000000   200.000000   191779.000000           137.000000   \n",
       "\n",
       "          DONOR_AGE      IN_HOUSE  INCOME_GROUP  PUBLISHED_PHONE  \\\n",
       "count  14577.000000  19372.000000  14980.000000     19372.000000   \n",
       "mean      58.919051      0.073198      3.907543         0.497729   \n",
       "std       16.669382      0.260469      1.864796         0.500008   \n",
       "min        0.000000      0.000000      1.000000         0.000000   \n",
       "25%       47.000000      0.000000      2.000000         0.000000   \n",
       "50%       60.000000      0.000000      4.000000         0.000000   \n",
       "75%       73.000000      0.000000      5.000000         1.000000   \n",
       "max       87.000000      1.000000      7.000000         1.000000   \n",
       "\n",
       "       MOR_HIT_RATE  WEALTH_RATING       ...        LIFETIME_GIFT_RANGE  \\\n",
       "count  19372.000000   10562.000000       ...               19372.000000   \n",
       "mean       3.361656       5.005397       ...                  11.587876   \n",
       "std        9.503481       2.815386       ...                  15.116893   \n",
       "min        0.000000       0.000000       ...                   0.000000   \n",
       "25%        0.000000       3.000000       ...                   5.000000   \n",
       "50%        0.000000       5.000000       ...                  10.000000   \n",
       "75%        3.000000       7.000000       ...                  15.000000   \n",
       "max      241.000000       9.000000       ...                 997.000000   \n",
       "\n",
       "       LIFETIME_MAX_GIFT_AMT  LIFETIME_MIN_GIFT_AMT  LAST_GIFT_AMT  \\\n",
       "count           19372.000000           19372.000000   19372.000000   \n",
       "mean               19.208808               7.620932      16.584199   \n",
       "std                16.101128               7.959786      11.977558   \n",
       "min                 5.000000               0.000000       0.000000   \n",
       "25%                12.000000               3.000000      10.000000   \n",
       "50%                16.000000               5.000000      15.000000   \n",
       "75%                21.000000              10.000000      20.000000   \n",
       "max              1000.000000             450.000000     450.000000   \n",
       "\n",
       "       CARD_PROM_12  NUMBER_PROM_12  MONTHS_SINCE_LAST_GIFT  \\\n",
       "count  19372.000000    19372.000000            19372.000000   \n",
       "mean       5.367128       12.901869               18.191152   \n",
       "std        1.264205        4.642072                4.033065   \n",
       "min        0.000000        2.000000                4.000000   \n",
       "25%        5.000000       11.000000               16.000000   \n",
       "50%        6.000000       12.000000               18.000000   \n",
       "75%        6.000000       13.000000               20.000000   \n",
       "max       17.000000       64.000000               27.000000   \n",
       "\n",
       "       MONTHS_SINCE_FIRST_GIFT  FILE_AVG_GIFT  FILE_CARD_GIFT  \n",
       "count             19372.000000   19372.000000    19372.000000  \n",
       "mean                 69.482088      12.858338        5.273591  \n",
       "std                  37.568169       8.787758        4.607063  \n",
       "min                  15.000000       1.360000        0.000000  \n",
       "25%                  33.000000       8.000000        2.000000  \n",
       "50%                  65.000000      11.200000        4.000000  \n",
       "75%                 105.000000      15.000000        8.000000  \n",
       "max                 260.000000     450.000000       41.000000  \n",
       "\n",
       "[8 rows x 43 columns]"
      ]
     },
     "execution_count": 5,
     "metadata": {},
     "output_type": "execute_result"
    }
   ],
   "source": [
    "dataset.describe()"
   ]
  },
  {
   "cell_type": "code",
   "execution_count": 6,
   "metadata": {
    "colab": {
     "base_uri": "https://localhost:8080/"
    },
    "id": "510YgWfJY8GY",
    "outputId": "8c955e0d-6947-4eba-c38e-2dcc174cf373"
   },
   "outputs": [
    {
     "data": {
      "text/plain": [
       "Index(['TARGET_B', 'TARGET_D', 'CONTROL_NUMBER', 'MONTHS_SINCE_ORIGIN',\n",
       "       'DONOR_AGE', 'IN_HOUSE', 'URBANICITY', 'SES', 'CLUSTER_CODE',\n",
       "       'HOME_OWNER', 'DONOR_GENDER', 'INCOME_GROUP', 'PUBLISHED_PHONE',\n",
       "       'OVERLAY_SOURCE', 'MOR_HIT_RATE', 'WEALTH_RATING', 'MEDIAN_HOME_VALUE',\n",
       "       'MEDIAN_HOUSEHOLD_INCOME', 'PCT_OWNER_OCCUPIED', 'PER_CAPITA_INCOME',\n",
       "       'PCT_ATTRIBUTE1', 'PCT_ATTRIBUTE2', 'PCT_ATTRIBUTE3', 'PCT_ATTRIBUTE4',\n",
       "       'PEP_STAR', 'RECENT_STAR_STATUS', 'RECENCY_STATUS_96NK',\n",
       "       'FREQUENCY_STATUS_97NK', 'RECENT_RESPONSE_PROP', 'RECENT_AVG_GIFT_AMT',\n",
       "       'RECENT_CARD_RESPONSE_PROP', 'RECENT_AVG_CARD_GIFT_AMT',\n",
       "       'RECENT_RESPONSE_COUNT', 'RECENT_CARD_RESPONSE_COUNT',\n",
       "       'MONTHS_SINCE_LAST_PROM_RESP', 'LIFETIME_CARD_PROM', 'LIFETIME_PROM',\n",
       "       'LIFETIME_GIFT_AMOUNT', 'LIFETIME_GIFT_COUNT', 'LIFETIME_AVG_GIFT_AMT',\n",
       "       'LIFETIME_GIFT_RANGE', 'LIFETIME_MAX_GIFT_AMT', 'LIFETIME_MIN_GIFT_AMT',\n",
       "       'LAST_GIFT_AMT', 'CARD_PROM_12', 'NUMBER_PROM_12',\n",
       "       'MONTHS_SINCE_LAST_GIFT', 'MONTHS_SINCE_FIRST_GIFT', 'FILE_AVG_GIFT',\n",
       "       'FILE_CARD_GIFT'],\n",
       "      dtype='object')"
      ]
     },
     "execution_count": 6,
     "metadata": {},
     "output_type": "execute_result"
    }
   ],
   "source": [
    "dataset.columns"
   ]
  },
  {
   "cell_type": "code",
   "execution_count": 7,
   "metadata": {
    "colab": {
     "base_uri": "https://localhost:8080/"
    },
    "id": "U9pZctTfY_3N",
    "outputId": "a794f14f-555b-4f16-b5be-bbe1aac9fad6"
   },
   "outputs": [
    {
     "data": {
      "text/plain": [
       "TARGET_B                           0\n",
       "TARGET_D                       14529\n",
       "CONTROL_NUMBER                     0\n",
       "MONTHS_SINCE_ORIGIN                0\n",
       "DONOR_AGE                       4795\n",
       "IN_HOUSE                           0\n",
       "URBANICITY                         0\n",
       "SES                                0\n",
       "CLUSTER_CODE                       0\n",
       "HOME_OWNER                         0\n",
       "DONOR_GENDER                       0\n",
       "INCOME_GROUP                    4392\n",
       "PUBLISHED_PHONE                    0\n",
       "OVERLAY_SOURCE                     0\n",
       "MOR_HIT_RATE                       0\n",
       "WEALTH_RATING                   8810\n",
       "MEDIAN_HOME_VALUE                  0\n",
       "MEDIAN_HOUSEHOLD_INCOME            0\n",
       "PCT_OWNER_OCCUPIED                 0\n",
       "PER_CAPITA_INCOME                  0\n",
       "PCT_ATTRIBUTE1                     0\n",
       "PCT_ATTRIBUTE2                     0\n",
       "PCT_ATTRIBUTE3                     0\n",
       "PCT_ATTRIBUTE4                     0\n",
       "PEP_STAR                           0\n",
       "RECENT_STAR_STATUS                 0\n",
       "RECENCY_STATUS_96NK                0\n",
       "FREQUENCY_STATUS_97NK              0\n",
       "RECENT_RESPONSE_PROP               0\n",
       "RECENT_AVG_GIFT_AMT                0\n",
       "RECENT_CARD_RESPONSE_PROP          0\n",
       "RECENT_AVG_CARD_GIFT_AMT           0\n",
       "RECENT_RESPONSE_COUNT              0\n",
       "RECENT_CARD_RESPONSE_COUNT         0\n",
       "MONTHS_SINCE_LAST_PROM_RESP      246\n",
       "LIFETIME_CARD_PROM                 0\n",
       "LIFETIME_PROM                      0\n",
       "LIFETIME_GIFT_AMOUNT               0\n",
       "LIFETIME_GIFT_COUNT                0\n",
       "LIFETIME_AVG_GIFT_AMT              0\n",
       "LIFETIME_GIFT_RANGE                0\n",
       "LIFETIME_MAX_GIFT_AMT              0\n",
       "LIFETIME_MIN_GIFT_AMT              0\n",
       "LAST_GIFT_AMT                      0\n",
       "CARD_PROM_12                       0\n",
       "NUMBER_PROM_12                     0\n",
       "MONTHS_SINCE_LAST_GIFT             0\n",
       "MONTHS_SINCE_FIRST_GIFT            0\n",
       "FILE_AVG_GIFT                      0\n",
       "FILE_CARD_GIFT                     0\n",
       "dtype: int64"
      ]
     },
     "execution_count": 7,
     "metadata": {},
     "output_type": "execute_result"
    }
   ],
   "source": [
    "dataset.isnull().sum()"
   ]
  },
  {
   "cell_type": "markdown",
   "metadata": {},
   "source": [
    "### Cleaning the Data"
   ]
  },
  {
   "cell_type": "code",
   "execution_count": 8,
   "metadata": {
    "colab": {
     "base_uri": "https://localhost:8080/"
    },
    "id": "O0XB3nVIZbjt",
    "outputId": "5b88840e-4147-4968-acfb-f130b34144b8"
   },
   "outputs": [
    {
     "data": {
      "text/plain": [
       "Index(['TARGET_D', 'DONOR_AGE', 'INCOME_GROUP', 'WEALTH_RATING',\n",
       "       'MONTHS_SINCE_LAST_PROM_RESP'],\n",
       "      dtype='object')"
      ]
     },
     "execution_count": 8,
     "metadata": {},
     "output_type": "execute_result"
    }
   ],
   "source": [
    "dataset.columns[dataset.isnull().any()]"
   ]
  },
  {
   "cell_type": "code",
   "execution_count": 9,
   "metadata": {
    "id": "iItJt3PKZkxC"
   },
   "outputs": [],
   "source": [
    "#Target D contains a lot of null values ,so delete this column\n",
    "dataset=dataset.drop(['TARGET_D'],axis=1)"
   ]
  },
  {
   "cell_type": "code",
   "execution_count": 10,
   "metadata": {
    "colab": {
     "base_uri": "https://localhost:8080/"
    },
    "id": "sGg0BA3gZxx2",
    "outputId": "ca6d094e-44d8-4b63-d095-bfa7853b3e09"
   },
   "outputs": [
    {
     "data": {
      "text/plain": [
       "Index(['DONOR_AGE', 'INCOME_GROUP', 'WEALTH_RATING',\n",
       "       'MONTHS_SINCE_LAST_PROM_RESP'],\n",
       "      dtype='object')"
      ]
     },
     "execution_count": 10,
     "metadata": {},
     "output_type": "execute_result"
    }
   ],
   "source": [
    "dataset.columns[dataset.isnull().any()]"
   ]
  },
  {
   "cell_type": "code",
   "execution_count": 11,
   "metadata": {
    "id": "5hsJ63P8Z4Vu"
   },
   "outputs": [],
   "source": [
    "dataset['DONOR_AGE']=dataset['DONOR_AGE'].fillna(dataset['DONOR_AGE'].median())"
   ]
  },
  {
   "cell_type": "code",
   "execution_count": 12,
   "metadata": {
    "id": "n5RCK8mtbKgt"
   },
   "outputs": [],
   "source": [
    "dataset['DONOR_AGE']=dataset['DONOR_AGE'].astype('int64')"
   ]
  },
  {
   "cell_type": "code",
   "execution_count": 13,
   "metadata": {
    "id": "y9NkJfTDbYoG"
   },
   "outputs": [],
   "source": [
    "dataset['INCOME_GROUP']=dataset['INCOME_GROUP'].fillna(dataset['INCOME_GROUP'].mode()[0])"
   ]
  },
  {
   "cell_type": "code",
   "execution_count": 14,
   "metadata": {
    "id": "ga0vaGOhc0vn"
   },
   "outputs": [],
   "source": [
    "dataset['INCOME_GROUP']=dataset['INCOME_GROUP'].astype('int64')"
   ]
  },
  {
   "cell_type": "code",
   "execution_count": 15,
   "metadata": {
    "id": "1C8WFCvLer_z"
   },
   "outputs": [],
   "source": [
    "dataset['WEALTH_RATING']=dataset['WEALTH_RATING'].fillna(dataset['WEALTH_RATING'].mode()[0])"
   ]
  },
  {
   "cell_type": "code",
   "execution_count": 16,
   "metadata": {
    "id": "ZPuFctlFexwP"
   },
   "outputs": [],
   "source": [
    "dataset['WEALTH_RATING']=dataset['WEALTH_RATING'].astype('int64')"
   ]
  },
  {
   "cell_type": "code",
   "execution_count": 17,
   "metadata": {
    "id": "dTrry-Qje19b"
   },
   "outputs": [],
   "source": [
    "dataset=dataset.dropna()"
   ]
  },
  {
   "cell_type": "code",
   "execution_count": 18,
   "metadata": {
    "colab": {
     "base_uri": "https://localhost:8080/"
    },
    "id": "yiS_89EVfLRc",
    "outputId": "ace5627c-ac68-487a-f451-8abc4ee80b3d"
   },
   "outputs": [
    {
     "data": {
      "text/plain": [
       "Index([], dtype='object')"
      ]
     },
     "execution_count": 18,
     "metadata": {},
     "output_type": "execute_result"
    }
   ],
   "source": [
    "dataset.columns[dataset.isnull().any()]"
   ]
  },
  {
   "cell_type": "code",
   "execution_count": 19,
   "metadata": {
    "colab": {
     "base_uri": "https://localhost:8080/",
     "height": 224
    },
    "id": "THdu8O7VfQ7B",
    "outputId": "d61e44f8-1107-407c-f44a-04c6db720842"
   },
   "outputs": [
    {
     "data": {
      "text/html": [
       "<div>\n",
       "<style scoped>\n",
       "    .dataframe tbody tr th:only-of-type {\n",
       "        vertical-align: middle;\n",
       "    }\n",
       "\n",
       "    .dataframe tbody tr th {\n",
       "        vertical-align: top;\n",
       "    }\n",
       "\n",
       "    .dataframe thead th {\n",
       "        text-align: right;\n",
       "    }\n",
       "</style>\n",
       "<table border=\"1\" class=\"dataframe\">\n",
       "  <thead>\n",
       "    <tr style=\"text-align: right;\">\n",
       "      <th></th>\n",
       "      <th>TARGET_B</th>\n",
       "      <th>CONTROL_NUMBER</th>\n",
       "      <th>MONTHS_SINCE_ORIGIN</th>\n",
       "      <th>DONOR_AGE</th>\n",
       "      <th>IN_HOUSE</th>\n",
       "      <th>URBANICITY</th>\n",
       "      <th>SES</th>\n",
       "      <th>CLUSTER_CODE</th>\n",
       "      <th>HOME_OWNER</th>\n",
       "      <th>DONOR_GENDER</th>\n",
       "      <th>...</th>\n",
       "      <th>LIFETIME_GIFT_RANGE</th>\n",
       "      <th>LIFETIME_MAX_GIFT_AMT</th>\n",
       "      <th>LIFETIME_MIN_GIFT_AMT</th>\n",
       "      <th>LAST_GIFT_AMT</th>\n",
       "      <th>CARD_PROM_12</th>\n",
       "      <th>NUMBER_PROM_12</th>\n",
       "      <th>MONTHS_SINCE_LAST_GIFT</th>\n",
       "      <th>MONTHS_SINCE_FIRST_GIFT</th>\n",
       "      <th>FILE_AVG_GIFT</th>\n",
       "      <th>FILE_CARD_GIFT</th>\n",
       "    </tr>\n",
       "  </thead>\n",
       "  <tbody>\n",
       "    <tr>\n",
       "      <th>0</th>\n",
       "      <td>0</td>\n",
       "      <td>5</td>\n",
       "      <td>101</td>\n",
       "      <td>87</td>\n",
       "      <td>0</td>\n",
       "      <td>?</td>\n",
       "      <td>?</td>\n",
       "      <td>.</td>\n",
       "      <td>H</td>\n",
       "      <td>M</td>\n",
       "      <td>...</td>\n",
       "      <td>15.0</td>\n",
       "      <td>20.0</td>\n",
       "      <td>5.0</td>\n",
       "      <td>15.0</td>\n",
       "      <td>5</td>\n",
       "      <td>12</td>\n",
       "      <td>26</td>\n",
       "      <td>92</td>\n",
       "      <td>8.49</td>\n",
       "      <td>7</td>\n",
       "    </tr>\n",
       "    <tr>\n",
       "      <th>1</th>\n",
       "      <td>1</td>\n",
       "      <td>12</td>\n",
       "      <td>137</td>\n",
       "      <td>79</td>\n",
       "      <td>0</td>\n",
       "      <td>R</td>\n",
       "      <td>2</td>\n",
       "      <td>45</td>\n",
       "      <td>H</td>\n",
       "      <td>M</td>\n",
       "      <td>...</td>\n",
       "      <td>20.0</td>\n",
       "      <td>25.0</td>\n",
       "      <td>5.0</td>\n",
       "      <td>17.0</td>\n",
       "      <td>7</td>\n",
       "      <td>21</td>\n",
       "      <td>7</td>\n",
       "      <td>122</td>\n",
       "      <td>14.72</td>\n",
       "      <td>12</td>\n",
       "    </tr>\n",
       "    <tr>\n",
       "      <th>2</th>\n",
       "      <td>0</td>\n",
       "      <td>37</td>\n",
       "      <td>113</td>\n",
       "      <td>75</td>\n",
       "      <td>0</td>\n",
       "      <td>S</td>\n",
       "      <td>1</td>\n",
       "      <td>11</td>\n",
       "      <td>H</td>\n",
       "      <td>F</td>\n",
       "      <td>...</td>\n",
       "      <td>23.0</td>\n",
       "      <td>28.0</td>\n",
       "      <td>5.0</td>\n",
       "      <td>19.0</td>\n",
       "      <td>11</td>\n",
       "      <td>32</td>\n",
       "      <td>6</td>\n",
       "      <td>105</td>\n",
       "      <td>16.75</td>\n",
       "      <td>16</td>\n",
       "    </tr>\n",
       "    <tr>\n",
       "      <th>3</th>\n",
       "      <td>0</td>\n",
       "      <td>38</td>\n",
       "      <td>92</td>\n",
       "      <td>60</td>\n",
       "      <td>0</td>\n",
       "      <td>U</td>\n",
       "      <td>2</td>\n",
       "      <td>04</td>\n",
       "      <td>H</td>\n",
       "      <td>F</td>\n",
       "      <td>...</td>\n",
       "      <td>14.0</td>\n",
       "      <td>17.0</td>\n",
       "      <td>3.0</td>\n",
       "      <td>15.0</td>\n",
       "      <td>11</td>\n",
       "      <td>33</td>\n",
       "      <td>6</td>\n",
       "      <td>92</td>\n",
       "      <td>11.76</td>\n",
       "      <td>12</td>\n",
       "    </tr>\n",
       "    <tr>\n",
       "      <th>4</th>\n",
       "      <td>0</td>\n",
       "      <td>41</td>\n",
       "      <td>101</td>\n",
       "      <td>74</td>\n",
       "      <td>0</td>\n",
       "      <td>R</td>\n",
       "      <td>2</td>\n",
       "      <td>49</td>\n",
       "      <td>U</td>\n",
       "      <td>F</td>\n",
       "      <td>...</td>\n",
       "      <td>20.0</td>\n",
       "      <td>25.0</td>\n",
       "      <td>5.0</td>\n",
       "      <td>25.0</td>\n",
       "      <td>6</td>\n",
       "      <td>19</td>\n",
       "      <td>18</td>\n",
       "      <td>92</td>\n",
       "      <td>8.83</td>\n",
       "      <td>3</td>\n",
       "    </tr>\n",
       "  </tbody>\n",
       "</table>\n",
       "<p>5 rows × 49 columns</p>\n",
       "</div>"
      ],
      "text/plain": [
       "   TARGET_B  CONTROL_NUMBER  MONTHS_SINCE_ORIGIN  DONOR_AGE  IN_HOUSE  \\\n",
       "0         0               5                  101         87         0   \n",
       "1         1              12                  137         79         0   \n",
       "2         0              37                  113         75         0   \n",
       "3         0              38                   92         60         0   \n",
       "4         0              41                  101         74         0   \n",
       "\n",
       "  URBANICITY SES CLUSTER_CODE HOME_OWNER DONOR_GENDER       ...        \\\n",
       "0          ?   ?            .          H            M       ...         \n",
       "1          R   2           45          H            M       ...         \n",
       "2          S   1           11          H            F       ...         \n",
       "3          U   2           04          H            F       ...         \n",
       "4          R   2           49          U            F       ...         \n",
       "\n",
       "   LIFETIME_GIFT_RANGE  LIFETIME_MAX_GIFT_AMT LIFETIME_MIN_GIFT_AMT  \\\n",
       "0                 15.0                   20.0                   5.0   \n",
       "1                 20.0                   25.0                   5.0   \n",
       "2                 23.0                   28.0                   5.0   \n",
       "3                 14.0                   17.0                   3.0   \n",
       "4                 20.0                   25.0                   5.0   \n",
       "\n",
       "   LAST_GIFT_AMT  CARD_PROM_12  NUMBER_PROM_12  MONTHS_SINCE_LAST_GIFT  \\\n",
       "0           15.0             5              12                      26   \n",
       "1           17.0             7              21                       7   \n",
       "2           19.0            11              32                       6   \n",
       "3           15.0            11              33                       6   \n",
       "4           25.0             6              19                      18   \n",
       "\n",
       "   MONTHS_SINCE_FIRST_GIFT  FILE_AVG_GIFT  FILE_CARD_GIFT  \n",
       "0                       92           8.49               7  \n",
       "1                      122          14.72              12  \n",
       "2                      105          16.75              16  \n",
       "3                       92          11.76              12  \n",
       "4                       92           8.83               3  \n",
       "\n",
       "[5 rows x 49 columns]"
      ]
     },
     "execution_count": 19,
     "metadata": {},
     "output_type": "execute_result"
    }
   ],
   "source": [
    "dataset.head()"
   ]
  },
  {
   "cell_type": "code",
   "execution_count": 20,
   "metadata": {
    "colab": {
     "base_uri": "https://localhost:8080/"
    },
    "id": "DwQKevCifY0M",
    "outputId": "aa2bcde7-cc32-4826-d380-f6e74ee9df69"
   },
   "outputs": [
    {
     "data": {
      "text/plain": [
       "2    9186\n",
       "1    5832\n",
       "3    3279\n",
       "?     446\n",
       "4     383\n",
       "Name: SES, dtype: int64"
      ]
     },
     "execution_count": 20,
     "metadata": {},
     "output_type": "execute_result"
    }
   ],
   "source": [
    "dataset['SES'].value_counts()"
   ]
  },
  {
   "cell_type": "code",
   "execution_count": 21,
   "metadata": {
    "id": "7ze2uRYTffQc"
   },
   "outputs": [],
   "source": [
    "dataset['SES']=dataset['SES'].str.replace('?','2')\n",
    "dataset['SES']=dataset['SES'].astype('int64')"
   ]
  },
  {
   "cell_type": "code",
   "execution_count": 22,
   "metadata": {
    "colab": {
     "base_uri": "https://localhost:8080/"
    },
    "id": "HqbsP1-RgCAc",
    "outputId": "d86a9310-35a6-4c12-e945-d87571f7a2b4"
   },
   "outputs": [
    {
     "data": {
      "text/plain": [
       "S    4434\n",
       "C    3973\n",
       "R    3960\n",
       "T    3899\n",
       "U    2414\n",
       "?     446\n",
       "Name: URBANICITY, dtype: int64"
      ]
     },
     "execution_count": 22,
     "metadata": {},
     "output_type": "execute_result"
    }
   ],
   "source": [
    "dataset['URBANICITY'].value_counts()"
   ]
  },
  {
   "cell_type": "code",
   "execution_count": 23,
   "metadata": {
    "id": "UKCQqwr_gPSo"
   },
   "outputs": [],
   "source": [
    "dataset['URBANICITY']=dataset['URBANICITY'].str.replace('?','S')"
   ]
  },
  {
   "cell_type": "code",
   "execution_count": 24,
   "metadata": {
    "colab": {
     "base_uri": "https://localhost:8080/"
    },
    "id": "kwt7_-vKgYB_",
    "outputId": "955027b7-9019-4775-86de-6c43d2956ef6"
   },
   "outputs": [
    {
     "data": {
      "text/plain": [
       "40    820\n",
       "24    784\n",
       "35    712\n",
       "36    710\n",
       "49    667\n",
       "27    661\n",
       "12    621\n",
       "18    612\n",
       "13    567\n",
       "30    513\n",
       "39    510\n",
       "45    477\n",
       "11    474\n",
       "43    463\n",
       "51    457\n",
       "14    451\n",
       " .    446\n",
       "41    427\n",
       "10    383\n",
       "16    383\n",
       "44    378\n",
       "02    375\n",
       "08    368\n",
       "46    367\n",
       "21    353\n",
       "17    346\n",
       "28    341\n",
       "20    313\n",
       "53    298\n",
       "03    294\n",
       "23    289\n",
       "42    283\n",
       "34    281\n",
       "25    266\n",
       "22    247\n",
       "31    242\n",
       "38    239\n",
       "01    235\n",
       "15    219\n",
       "37    200\n",
       "26    199\n",
       "05    196\n",
       "47    182\n",
       "07    181\n",
       "48    179\n",
       "29    170\n",
       "32    152\n",
       "09    151\n",
       "50    151\n",
       "06    121\n",
       "04    110\n",
       "33    109\n",
       "19     95\n",
       "52     58\n",
       "Name: CLUSTER_CODE, dtype: int64"
      ]
     },
     "execution_count": 24,
     "metadata": {},
     "output_type": "execute_result"
    }
   ],
   "source": [
    "dataset['CLUSTER_CODE'].value_counts()"
   ]
  },
  {
   "cell_type": "code",
   "execution_count": 25,
   "metadata": {
    "id": "bJpjutpPgggc"
   },
   "outputs": [],
   "source": [
    "dataset['CLUSTER_CODE']=dataset['CLUSTER_CODE'].str.replace('.','40')\n",
    "dataset['CLUSTER_CODE']=dataset['CLUSTER_CODE'].astype('int64')"
   ]
  },
  {
   "cell_type": "code",
   "execution_count": 26,
   "metadata": {
    "colab": {
     "base_uri": "https://localhost:8080/",
     "height": 224
    },
    "id": "3Ah-0B0P3iM1",
    "outputId": "4bd9fdc0-166d-4bd7-8aae-25905ebcdbb6"
   },
   "outputs": [
    {
     "data": {
      "text/html": [
       "<div>\n",
       "<style scoped>\n",
       "    .dataframe tbody tr th:only-of-type {\n",
       "        vertical-align: middle;\n",
       "    }\n",
       "\n",
       "    .dataframe tbody tr th {\n",
       "        vertical-align: top;\n",
       "    }\n",
       "\n",
       "    .dataframe thead th {\n",
       "        text-align: right;\n",
       "    }\n",
       "</style>\n",
       "<table border=\"1\" class=\"dataframe\">\n",
       "  <thead>\n",
       "    <tr style=\"text-align: right;\">\n",
       "      <th></th>\n",
       "      <th>TARGET_B</th>\n",
       "      <th>CONTROL_NUMBER</th>\n",
       "      <th>MONTHS_SINCE_ORIGIN</th>\n",
       "      <th>DONOR_AGE</th>\n",
       "      <th>IN_HOUSE</th>\n",
       "      <th>URBANICITY</th>\n",
       "      <th>SES</th>\n",
       "      <th>CLUSTER_CODE</th>\n",
       "      <th>HOME_OWNER</th>\n",
       "      <th>DONOR_GENDER</th>\n",
       "      <th>...</th>\n",
       "      <th>LIFETIME_GIFT_RANGE</th>\n",
       "      <th>LIFETIME_MAX_GIFT_AMT</th>\n",
       "      <th>LIFETIME_MIN_GIFT_AMT</th>\n",
       "      <th>LAST_GIFT_AMT</th>\n",
       "      <th>CARD_PROM_12</th>\n",
       "      <th>NUMBER_PROM_12</th>\n",
       "      <th>MONTHS_SINCE_LAST_GIFT</th>\n",
       "      <th>MONTHS_SINCE_FIRST_GIFT</th>\n",
       "      <th>FILE_AVG_GIFT</th>\n",
       "      <th>FILE_CARD_GIFT</th>\n",
       "    </tr>\n",
       "  </thead>\n",
       "  <tbody>\n",
       "    <tr>\n",
       "      <th>0</th>\n",
       "      <td>0</td>\n",
       "      <td>5</td>\n",
       "      <td>101</td>\n",
       "      <td>87</td>\n",
       "      <td>0</td>\n",
       "      <td>S</td>\n",
       "      <td>2</td>\n",
       "      <td>40</td>\n",
       "      <td>H</td>\n",
       "      <td>M</td>\n",
       "      <td>...</td>\n",
       "      <td>15.0</td>\n",
       "      <td>20.0</td>\n",
       "      <td>5.0</td>\n",
       "      <td>15.0</td>\n",
       "      <td>5</td>\n",
       "      <td>12</td>\n",
       "      <td>26</td>\n",
       "      <td>92</td>\n",
       "      <td>8.49</td>\n",
       "      <td>7</td>\n",
       "    </tr>\n",
       "    <tr>\n",
       "      <th>1</th>\n",
       "      <td>1</td>\n",
       "      <td>12</td>\n",
       "      <td>137</td>\n",
       "      <td>79</td>\n",
       "      <td>0</td>\n",
       "      <td>R</td>\n",
       "      <td>2</td>\n",
       "      <td>45</td>\n",
       "      <td>H</td>\n",
       "      <td>M</td>\n",
       "      <td>...</td>\n",
       "      <td>20.0</td>\n",
       "      <td>25.0</td>\n",
       "      <td>5.0</td>\n",
       "      <td>17.0</td>\n",
       "      <td>7</td>\n",
       "      <td>21</td>\n",
       "      <td>7</td>\n",
       "      <td>122</td>\n",
       "      <td>14.72</td>\n",
       "      <td>12</td>\n",
       "    </tr>\n",
       "    <tr>\n",
       "      <th>2</th>\n",
       "      <td>0</td>\n",
       "      <td>37</td>\n",
       "      <td>113</td>\n",
       "      <td>75</td>\n",
       "      <td>0</td>\n",
       "      <td>S</td>\n",
       "      <td>1</td>\n",
       "      <td>11</td>\n",
       "      <td>H</td>\n",
       "      <td>F</td>\n",
       "      <td>...</td>\n",
       "      <td>23.0</td>\n",
       "      <td>28.0</td>\n",
       "      <td>5.0</td>\n",
       "      <td>19.0</td>\n",
       "      <td>11</td>\n",
       "      <td>32</td>\n",
       "      <td>6</td>\n",
       "      <td>105</td>\n",
       "      <td>16.75</td>\n",
       "      <td>16</td>\n",
       "    </tr>\n",
       "    <tr>\n",
       "      <th>3</th>\n",
       "      <td>0</td>\n",
       "      <td>38</td>\n",
       "      <td>92</td>\n",
       "      <td>60</td>\n",
       "      <td>0</td>\n",
       "      <td>U</td>\n",
       "      <td>2</td>\n",
       "      <td>4</td>\n",
       "      <td>H</td>\n",
       "      <td>F</td>\n",
       "      <td>...</td>\n",
       "      <td>14.0</td>\n",
       "      <td>17.0</td>\n",
       "      <td>3.0</td>\n",
       "      <td>15.0</td>\n",
       "      <td>11</td>\n",
       "      <td>33</td>\n",
       "      <td>6</td>\n",
       "      <td>92</td>\n",
       "      <td>11.76</td>\n",
       "      <td>12</td>\n",
       "    </tr>\n",
       "    <tr>\n",
       "      <th>4</th>\n",
       "      <td>0</td>\n",
       "      <td>41</td>\n",
       "      <td>101</td>\n",
       "      <td>74</td>\n",
       "      <td>0</td>\n",
       "      <td>R</td>\n",
       "      <td>2</td>\n",
       "      <td>49</td>\n",
       "      <td>U</td>\n",
       "      <td>F</td>\n",
       "      <td>...</td>\n",
       "      <td>20.0</td>\n",
       "      <td>25.0</td>\n",
       "      <td>5.0</td>\n",
       "      <td>25.0</td>\n",
       "      <td>6</td>\n",
       "      <td>19</td>\n",
       "      <td>18</td>\n",
       "      <td>92</td>\n",
       "      <td>8.83</td>\n",
       "      <td>3</td>\n",
       "    </tr>\n",
       "  </tbody>\n",
       "</table>\n",
       "<p>5 rows × 43 columns</p>\n",
       "</div>"
      ],
      "text/plain": [
       "   TARGET_B  CONTROL_NUMBER  MONTHS_SINCE_ORIGIN  DONOR_AGE  IN_HOUSE  \\\n",
       "0         0               5                  101         87         0   \n",
       "1         1              12                  137         79         0   \n",
       "2         0              37                  113         75         0   \n",
       "3         0              38                   92         60         0   \n",
       "4         0              41                  101         74         0   \n",
       "\n",
       "  URBANICITY  SES  CLUSTER_CODE HOME_OWNER DONOR_GENDER       ...        \\\n",
       "0          S    2            40          H            M       ...         \n",
       "1          R    2            45          H            M       ...         \n",
       "2          S    1            11          H            F       ...         \n",
       "3          U    2             4          H            F       ...         \n",
       "4          R    2            49          U            F       ...         \n",
       "\n",
       "   LIFETIME_GIFT_RANGE LIFETIME_MAX_GIFT_AMT  LIFETIME_MIN_GIFT_AMT  \\\n",
       "0                 15.0                  20.0                    5.0   \n",
       "1                 20.0                  25.0                    5.0   \n",
       "2                 23.0                  28.0                    5.0   \n",
       "3                 14.0                  17.0                    3.0   \n",
       "4                 20.0                  25.0                    5.0   \n",
       "\n",
       "   LAST_GIFT_AMT  CARD_PROM_12  NUMBER_PROM_12  MONTHS_SINCE_LAST_GIFT  \\\n",
       "0           15.0             5              12                      26   \n",
       "1           17.0             7              21                       7   \n",
       "2           19.0            11              32                       6   \n",
       "3           15.0            11              33                       6   \n",
       "4           25.0             6              19                      18   \n",
       "\n",
       "   MONTHS_SINCE_FIRST_GIFT  FILE_AVG_GIFT  FILE_CARD_GIFT  \n",
       "0                       92           8.49               7  \n",
       "1                      122          14.72              12  \n",
       "2                      105          16.75              16  \n",
       "3                       92          11.76              12  \n",
       "4                       92           8.83               3  \n",
       "\n",
       "[5 rows x 43 columns]"
      ]
     },
     "execution_count": 26,
     "metadata": {},
     "output_type": "execute_result"
    }
   ],
   "source": [
    "dataset.drop(['PUBLISHED_PHONE', 'RECENCY_STATUS_96NK', 'PCT_ATTRIBUTE1', 'PCT_ATTRIBUTE2', 'PCT_ATTRIBUTE3', 'PCT_ATTRIBUTE4'], 'columns', inplace=True)\n",
    "dataset.head() #Dropping irrelevant columns in the Training Dataset"
   ]
  },
  {
   "cell_type": "markdown",
   "metadata": {},
   "source": [
    "### Apply One Hot Encoding"
   ]
  },
  {
   "cell_type": "code",
   "execution_count": 27,
   "metadata": {
    "id": "WvkvP5YX7iKB"
   },
   "outputs": [],
   "source": [
    "from sklearn.preprocessing import LabelEncoder\n",
    "\n",
    "number = LabelEncoder()\n",
    "\n",
    "dataset['DONOR_GENDER'] = number.fit_transform(dataset['DONOR_GENDER'].astype(str))"
   ]
  },
  {
   "cell_type": "code",
   "execution_count": 28,
   "metadata": {
    "colab": {
     "base_uri": "https://localhost:8080/"
    },
    "id": "FzzMwGB7gpxk",
    "outputId": "785708a1-b093-4dcd-a5e9-60b252b1d3a8"
   },
   "outputs": [
    {
     "name": "stdout",
     "output_type": "stream",
     "text": [
      "Categorical variables:\n",
      "['URBANICITY', 'HOME_OWNER', 'OVERLAY_SOURCE']\n"
     ]
    }
   ],
   "source": [
    "# Get list of categorical variables\n",
    "s = (dataset.dtypes == 'object')\n",
    "object_cols = list(s[s].index)\n",
    "\n",
    "print(\"Categorical variables:\")\n",
    "print(object_cols)"
   ]
  },
  {
   "cell_type": "code",
   "execution_count": 29,
   "metadata": {
    "colab": {
     "base_uri": "https://localhost:8080/",
     "height": 224
    },
    "id": "Ern2AlrTiQSi",
    "outputId": "657bb126-4585-407a-9863-f00ec2a8d326"
   },
   "outputs": [
    {
     "data": {
      "text/html": [
       "<div>\n",
       "<style scoped>\n",
       "    .dataframe tbody tr th:only-of-type {\n",
       "        vertical-align: middle;\n",
       "    }\n",
       "\n",
       "    .dataframe tbody tr th {\n",
       "        vertical-align: top;\n",
       "    }\n",
       "\n",
       "    .dataframe thead th {\n",
       "        text-align: right;\n",
       "    }\n",
       "</style>\n",
       "<table border=\"1\" class=\"dataframe\">\n",
       "  <thead>\n",
       "    <tr style=\"text-align: right;\">\n",
       "      <th></th>\n",
       "      <th>TARGET_B</th>\n",
       "      <th>CONTROL_NUMBER</th>\n",
       "      <th>MONTHS_SINCE_ORIGIN</th>\n",
       "      <th>DONOR_AGE</th>\n",
       "      <th>IN_HOUSE</th>\n",
       "      <th>SES</th>\n",
       "      <th>CLUSTER_CODE</th>\n",
       "      <th>DONOR_GENDER</th>\n",
       "      <th>INCOME_GROUP</th>\n",
       "      <th>MOR_HIT_RATE</th>\n",
       "      <th>...</th>\n",
       "      <th>FILE_AVG_GIFT</th>\n",
       "      <th>FILE_CARD_GIFT</th>\n",
       "      <th>URBANICITY_R</th>\n",
       "      <th>URBANICITY_S</th>\n",
       "      <th>URBANICITY_T</th>\n",
       "      <th>URBANICITY_U</th>\n",
       "      <th>HOME_OWNER_U</th>\n",
       "      <th>OVERLAY_SOURCE_M</th>\n",
       "      <th>OVERLAY_SOURCE_N</th>\n",
       "      <th>OVERLAY_SOURCE_P</th>\n",
       "    </tr>\n",
       "  </thead>\n",
       "  <tbody>\n",
       "    <tr>\n",
       "      <th>0</th>\n",
       "      <td>0</td>\n",
       "      <td>5</td>\n",
       "      <td>101</td>\n",
       "      <td>87</td>\n",
       "      <td>0</td>\n",
       "      <td>2</td>\n",
       "      <td>40</td>\n",
       "      <td>2</td>\n",
       "      <td>2</td>\n",
       "      <td>0</td>\n",
       "      <td>...</td>\n",
       "      <td>8.49</td>\n",
       "      <td>7</td>\n",
       "      <td>0</td>\n",
       "      <td>1</td>\n",
       "      <td>0</td>\n",
       "      <td>0</td>\n",
       "      <td>0</td>\n",
       "      <td>0</td>\n",
       "      <td>0</td>\n",
       "      <td>1</td>\n",
       "    </tr>\n",
       "    <tr>\n",
       "      <th>1</th>\n",
       "      <td>1</td>\n",
       "      <td>12</td>\n",
       "      <td>137</td>\n",
       "      <td>79</td>\n",
       "      <td>0</td>\n",
       "      <td>2</td>\n",
       "      <td>45</td>\n",
       "      <td>2</td>\n",
       "      <td>7</td>\n",
       "      <td>0</td>\n",
       "      <td>...</td>\n",
       "      <td>14.72</td>\n",
       "      <td>12</td>\n",
       "      <td>1</td>\n",
       "      <td>0</td>\n",
       "      <td>0</td>\n",
       "      <td>0</td>\n",
       "      <td>0</td>\n",
       "      <td>0</td>\n",
       "      <td>0</td>\n",
       "      <td>1</td>\n",
       "    </tr>\n",
       "    <tr>\n",
       "      <th>2</th>\n",
       "      <td>0</td>\n",
       "      <td>37</td>\n",
       "      <td>113</td>\n",
       "      <td>75</td>\n",
       "      <td>0</td>\n",
       "      <td>1</td>\n",
       "      <td>11</td>\n",
       "      <td>1</td>\n",
       "      <td>5</td>\n",
       "      <td>0</td>\n",
       "      <td>...</td>\n",
       "      <td>16.75</td>\n",
       "      <td>16</td>\n",
       "      <td>0</td>\n",
       "      <td>1</td>\n",
       "      <td>0</td>\n",
       "      <td>0</td>\n",
       "      <td>0</td>\n",
       "      <td>0</td>\n",
       "      <td>0</td>\n",
       "      <td>1</td>\n",
       "    </tr>\n",
       "    <tr>\n",
       "      <th>3</th>\n",
       "      <td>0</td>\n",
       "      <td>38</td>\n",
       "      <td>92</td>\n",
       "      <td>60</td>\n",
       "      <td>0</td>\n",
       "      <td>2</td>\n",
       "      <td>4</td>\n",
       "      <td>1</td>\n",
       "      <td>6</td>\n",
       "      <td>0</td>\n",
       "      <td>...</td>\n",
       "      <td>11.76</td>\n",
       "      <td>12</td>\n",
       "      <td>0</td>\n",
       "      <td>0</td>\n",
       "      <td>0</td>\n",
       "      <td>1</td>\n",
       "      <td>0</td>\n",
       "      <td>0</td>\n",
       "      <td>0</td>\n",
       "      <td>0</td>\n",
       "    </tr>\n",
       "    <tr>\n",
       "      <th>4</th>\n",
       "      <td>0</td>\n",
       "      <td>41</td>\n",
       "      <td>101</td>\n",
       "      <td>74</td>\n",
       "      <td>0</td>\n",
       "      <td>2</td>\n",
       "      <td>49</td>\n",
       "      <td>1</td>\n",
       "      <td>2</td>\n",
       "      <td>8</td>\n",
       "      <td>...</td>\n",
       "      <td>8.83</td>\n",
       "      <td>3</td>\n",
       "      <td>1</td>\n",
       "      <td>0</td>\n",
       "      <td>0</td>\n",
       "      <td>0</td>\n",
       "      <td>1</td>\n",
       "      <td>0</td>\n",
       "      <td>0</td>\n",
       "      <td>0</td>\n",
       "    </tr>\n",
       "  </tbody>\n",
       "</table>\n",
       "<p>5 rows × 48 columns</p>\n",
       "</div>"
      ],
      "text/plain": [
       "   TARGET_B  CONTROL_NUMBER  MONTHS_SINCE_ORIGIN  DONOR_AGE  IN_HOUSE  SES  \\\n",
       "0         0               5                  101         87         0    2   \n",
       "1         1              12                  137         79         0    2   \n",
       "2         0              37                  113         75         0    1   \n",
       "3         0              38                   92         60         0    2   \n",
       "4         0              41                  101         74         0    2   \n",
       "\n",
       "   CLUSTER_CODE  DONOR_GENDER  INCOME_GROUP  MOR_HIT_RATE        ...         \\\n",
       "0            40             2             2             0        ...          \n",
       "1            45             2             7             0        ...          \n",
       "2            11             1             5             0        ...          \n",
       "3             4             1             6             0        ...          \n",
       "4            49             1             2             8        ...          \n",
       "\n",
       "   FILE_AVG_GIFT  FILE_CARD_GIFT  URBANICITY_R  URBANICITY_S  URBANICITY_T  \\\n",
       "0           8.49               7             0             1             0   \n",
       "1          14.72              12             1             0             0   \n",
       "2          16.75              16             0             1             0   \n",
       "3          11.76              12             0             0             0   \n",
       "4           8.83               3             1             0             0   \n",
       "\n",
       "   URBANICITY_U  HOME_OWNER_U  OVERLAY_SOURCE_M  OVERLAY_SOURCE_N  \\\n",
       "0             0             0                 0                 0   \n",
       "1             0             0                 0                 0   \n",
       "2             0             0                 0                 0   \n",
       "3             1             0                 0                 0   \n",
       "4             0             1                 0                 0   \n",
       "\n",
       "   OVERLAY_SOURCE_P  \n",
       "0                 1  \n",
       "1                 1  \n",
       "2                 1  \n",
       "3                 0  \n",
       "4                 0  \n",
       "\n",
       "[5 rows x 48 columns]"
      ]
     },
     "execution_count": 29,
     "metadata": {},
     "output_type": "execute_result"
    }
   ],
   "source": [
    "expanded_dataset =pd.get_dummies(dataset, columns=['URBANICITY', 'HOME_OWNER', 'OVERLAY_SOURCE'], drop_first = True)\n",
    "expanded_dataset.head()"
   ]
  },
  {
   "cell_type": "code",
   "execution_count": 30,
   "metadata": {
    "colab": {
     "base_uri": "https://localhost:8080/"
    },
    "id": "1vD2nlIt4apR",
    "outputId": "f9216cc6-dfc3-4695-8119-5d7c3c13e456"
   },
   "outputs": [
    {
     "data": {
      "text/plain": [
       "(19126, 48)"
      ]
     },
     "execution_count": 30,
     "metadata": {},
     "output_type": "execute_result"
    }
   ],
   "source": [
    "expanded_dataset.shape"
   ]
  },
  {
   "cell_type": "code",
   "execution_count": 31,
   "metadata": {
    "colab": {
     "base_uri": "https://localhost:8080/"
    },
    "id": "Y_idGei9ixqX",
    "outputId": "cc51e2ae-66aa-4a33-e268-9afd2691a323"
   },
   "outputs": [
    {
     "data": {
      "text/plain": [
       "Index(['TARGET_B', 'CONTROL_NUMBER', 'MONTHS_SINCE_ORIGIN', 'DONOR_AGE',\n",
       "       'IN_HOUSE', 'SES', 'CLUSTER_CODE', 'DONOR_GENDER', 'INCOME_GROUP',\n",
       "       'MOR_HIT_RATE', 'WEALTH_RATING', 'MEDIAN_HOME_VALUE',\n",
       "       'MEDIAN_HOUSEHOLD_INCOME', 'PCT_OWNER_OCCUPIED', 'PER_CAPITA_INCOME',\n",
       "       'PEP_STAR', 'RECENT_STAR_STATUS', 'FREQUENCY_STATUS_97NK',\n",
       "       'RECENT_RESPONSE_PROP', 'RECENT_AVG_GIFT_AMT',\n",
       "       'RECENT_CARD_RESPONSE_PROP', 'RECENT_AVG_CARD_GIFT_AMT',\n",
       "       'RECENT_RESPONSE_COUNT', 'RECENT_CARD_RESPONSE_COUNT',\n",
       "       'MONTHS_SINCE_LAST_PROM_RESP', 'LIFETIME_CARD_PROM', 'LIFETIME_PROM',\n",
       "       'LIFETIME_GIFT_AMOUNT', 'LIFETIME_GIFT_COUNT', 'LIFETIME_AVG_GIFT_AMT',\n",
       "       'LIFETIME_GIFT_RANGE', 'LIFETIME_MAX_GIFT_AMT', 'LIFETIME_MIN_GIFT_AMT',\n",
       "       'LAST_GIFT_AMT', 'CARD_PROM_12', 'NUMBER_PROM_12',\n",
       "       'MONTHS_SINCE_LAST_GIFT', 'MONTHS_SINCE_FIRST_GIFT', 'FILE_AVG_GIFT',\n",
       "       'FILE_CARD_GIFT', 'URBANICITY_R', 'URBANICITY_S', 'URBANICITY_T',\n",
       "       'URBANICITY_U', 'HOME_OWNER_U', 'OVERLAY_SOURCE_M', 'OVERLAY_SOURCE_N',\n",
       "       'OVERLAY_SOURCE_P'],\n",
       "      dtype='object')"
      ]
     },
     "execution_count": 31,
     "metadata": {},
     "output_type": "execute_result"
    }
   ],
   "source": [
    "#Checking new column names\n",
    "expanded_dataset.columns"
   ]
  },
  {
   "cell_type": "markdown",
   "metadata": {
    "id": "bDfKbak_X7U-"
   },
   "source": [
    "### Data Coordination"
   ]
  },
  {
   "cell_type": "code",
   "execution_count": 32,
   "metadata": {
    "id": "fpbg7EnXX7U_"
   },
   "outputs": [],
   "source": [
    "# input features\n",
    "X = expanded_dataset.drop('TARGET_B', axis=1)\n",
    "\n",
    "# Target variable\n",
    "y = expanded_dataset['TARGET_B']\n"
   ]
  },
  {
   "cell_type": "markdown",
   "metadata": {
    "id": "61-KEAi1X7U_"
   },
   "source": [
    "### Feature Scaling"
   ]
  },
  {
   "cell_type": "code",
   "execution_count": 33,
   "metadata": {
    "id": "Cn9_VVhRX7VA"
   },
   "outputs": [
    {
     "name": "stderr",
     "output_type": "stream",
     "text": [
      "C:\\Anaconda\\lib\\site-packages\\sklearn\\preprocessing\\data.py:625: DataConversionWarning: Data with input dtype uint8, int32, int64, float64 were all converted to float64 by StandardScaler.\n",
      "  return self.partial_fit(X, y)\n",
      "C:\\Anaconda\\lib\\site-packages\\sklearn\\base.py:462: DataConversionWarning: Data with input dtype uint8, int32, int64, float64 were all converted to float64 by StandardScaler.\n",
      "  return self.fit(X, **fit_params).transform(X)\n"
     ]
    }
   ],
   "source": [
    "from sklearn.preprocessing import StandardScaler\n",
    "sc = StandardScaler()\n",
    "X_sc = sc.fit_transform(X)"
   ]
  },
  {
   "cell_type": "code",
   "execution_count": 34,
   "metadata": {
    "colab": {
     "base_uri": "https://localhost:8080/"
    },
    "id": "LYqZeT7ZX7VA",
    "outputId": "03ee367a-0b64-4a93-e950-c04c32bef139"
   },
   "outputs": [
    {
     "data": {
      "text/plain": [
       "array([[-1.73558568,  0.66610598,  1.92094965, ..., -0.2869465 ,\n",
       "        -0.5420179 ,  1.74973832],\n",
       "       [-1.73546005,  1.53877455,  1.36818355, ..., -0.2869465 ,\n",
       "        -0.5420179 ,  1.74973832],\n",
       "       [-1.73501139,  0.95699551,  1.09180049, ..., -0.2869465 ,\n",
       "        -0.5420179 ,  1.74973832],\n",
       "       ...,\n",
       "       [ 1.70483039,  1.53877455,  1.22999202, ..., -0.2869465 ,\n",
       "        -0.5420179 , -0.57151403],\n",
       "       [ 1.7059969 ,  1.3448482 ,  1.29908778, ..., -0.2869465 ,\n",
       "        -0.5420179 , -0.57151403],\n",
       "       [ 1.70606869, -1.07923116,  0.74632167, ..., -0.2869465 ,\n",
       "        -0.5420179 , -0.57151403]])"
      ]
     },
     "execution_count": 34,
     "metadata": {},
     "output_type": "execute_result"
    }
   ],
   "source": [
    "X_sc"
   ]
  },
  {
   "cell_type": "code",
   "execution_count": 35,
   "metadata": {
    "colab": {
     "base_uri": "https://localhost:8080/"
    },
    "id": "leXtSugCX7VA",
    "outputId": "9e28cbbc-3c6a-484e-b6e0-9ef9ab998907"
   },
   "outputs": [
    {
     "data": {
      "text/plain": [
       "(19126, 47)"
      ]
     },
     "execution_count": 35,
     "metadata": {},
     "output_type": "execute_result"
    }
   ],
   "source": [
    "X_sc.shape"
   ]
  },
  {
   "cell_type": "code",
   "execution_count": 36,
   "metadata": {
    "colab": {
     "base_uri": "https://localhost:8080/"
    },
    "id": "4Tdg8vf9X7VB",
    "outputId": "5dbd62e7-ba63-46b2-bd27-becc95f5dab4"
   },
   "outputs": [
    {
     "data": {
      "text/plain": [
       "(19126,)"
      ]
     },
     "execution_count": 36,
     "metadata": {},
     "output_type": "execute_result"
    }
   ],
   "source": [
    "y.shape"
   ]
  },
  {
   "cell_type": "markdown",
   "metadata": {
    "id": "E7fNu2CNX7VB"
   },
   "source": [
    "## Splitting the dataset into the Training set and Test set"
   ]
  },
  {
   "cell_type": "code",
   "execution_count": 37,
   "metadata": {
    "id": "BousUIzdX7VB"
   },
   "outputs": [],
   "source": [
    "from sklearn.model_selection import train_test_split\n",
    "X_train, X_test, y_train, y_test = train_test_split(X_sc, y, test_size = 0.3, random_state = 0)"
   ]
  },
  {
   "cell_type": "code",
   "execution_count": 38,
   "metadata": {
    "colab": {
     "base_uri": "https://localhost:8080/"
    },
    "id": "NFeEg18GX7VB",
    "outputId": "c3249479-8796-4053-d339-6d560b39468a"
   },
   "outputs": [
    {
     "data": {
      "text/plain": [
       "array([[-0.01210243,  1.53877455, -2.9157538 , ..., -0.2869465 ,\n",
       "        -0.5420179 , -0.57151403],\n",
       "       [-0.71700142,  0.37521646, -0.29011478, ..., -0.2869465 ,\n",
       "        -0.5420179 , -0.57151403],\n",
       "       [ 1.38694567, -0.49745211,  0.05536404, ..., -0.2869465 ,\n",
       "        -0.5420179 ,  1.74973832],\n",
       "       ...,\n",
       "       [ 0.05560937, -1.07923116, -0.6355936 , ..., -0.2869465 ,\n",
       "        -0.5420179 , -0.57151403],\n",
       "       [ 0.22830765, -1.07923116, -0.77378513, ..., -0.2869465 ,\n",
       "        -0.5420179 , -0.57151403],\n",
       "       [-1.2471383 ,  0.66610598, -1.11926394, ..., -0.2869465 ,\n",
       "        -0.5420179 , -0.57151403]])"
      ]
     },
     "execution_count": 38,
     "metadata": {},
     "output_type": "execute_result"
    }
   ],
   "source": [
    "X_train"
   ]
  },
  {
   "cell_type": "code",
   "execution_count": 39,
   "metadata": {
    "colab": {
     "base_uri": "https://localhost:8080/"
    },
    "id": "h_4C3-JIX7VC",
    "outputId": "7bee92e9-a4e3-445a-b8fa-da7be76e7fca"
   },
   "outputs": [
    {
     "data": {
      "text/plain": [
       "array([[-1.58092353,  0.08432694, -0.15192325, ..., -0.2869465 ,\n",
       "         1.84495753, -0.57151403],\n",
       "       [-0.23512243, -1.37012068,  0.53903438, ..., -0.2869465 ,\n",
       "        -0.5420179 , -0.57151403],\n",
       "       [ 0.15614515,  0.95699551,  1.43727931, ..., -0.2869465 ,\n",
       "        -0.5420179 , -0.57151403],\n",
       "       ...,\n",
       "       [-0.15739654,  0.95699551, -0.29011478, ..., -0.2869465 ,\n",
       "        -0.5420179 ,  1.74973832],\n",
       "       [ 0.28710008,  0.08432694,  0.67722591, ..., -0.2869465 ,\n",
       "         1.84495753, -0.57151403],\n",
       "       [ 1.32689699, -0.20656259, -0.6355936 , ..., -0.2869465 ,\n",
       "        -0.5420179 ,  1.74973832]])"
      ]
     },
     "execution_count": 39,
     "metadata": {},
     "output_type": "execute_result"
    }
   ],
   "source": [
    "X_test"
   ]
  },
  {
   "cell_type": "code",
   "execution_count": 40,
   "metadata": {
    "colab": {
     "base_uri": "https://localhost:8080/"
    },
    "id": "UNVWbQskX7VC",
    "outputId": "7f9a2569-bc47-4f79-d9f0-7dbe906fb640"
   },
   "outputs": [
    {
     "data": {
      "text/plain": [
       "907      0\n",
       "8356     0\n",
       "10526    0\n",
       "5544     1\n",
       "7470     1\n",
       "Name: TARGET_B, dtype: int64"
      ]
     },
     "execution_count": 40,
     "metadata": {},
     "output_type": "execute_result"
    }
   ],
   "source": [
    "y_test.head()"
   ]
  },
  {
   "cell_type": "code",
   "execution_count": 41,
   "metadata": {
    "colab": {
     "base_uri": "https://localhost:8080/"
    },
    "id": "2DSI7XIJX7VC",
    "outputId": "410759cf-d240-49fe-b70c-476c947a758f"
   },
   "outputs": [
    {
     "data": {
      "text/plain": [
       "9606     0\n",
       "5644     0\n",
       "17510    1\n",
       "12298    0\n",
       "15728    0\n",
       "Name: TARGET_B, dtype: int64"
      ]
     },
     "execution_count": 41,
     "metadata": {},
     "output_type": "execute_result"
    }
   ],
   "source": [
    "y_train.head()"
   ]
  },
  {
   "cell_type": "markdown",
   "metadata": {
    "id": "7ppng4hEX7VD"
   },
   "source": [
    "## Build Models \n",
    "\n",
    "### We'll use  KNN Classifier model and then check again with Random Forest Classifier to measure Accuracy of the best model:"
   ]
  },
  {
   "cell_type": "markdown",
   "metadata": {
    "id": "QXvbXjprX7VD"
   },
   "source": [
    "## Let's build KNN classifier model for k=2."
   ]
  },
  {
   "cell_type": "code",
   "execution_count": 42,
   "metadata": {
    "id": "DPJ-UrsoX7VD"
   },
   "outputs": [],
   "source": [
    "#Import knearest neighbors Classifier model\n",
    "from sklearn.neighbors import KNeighborsClassifier\n",
    "\n",
    "#Create KNN Classifier\n",
    "knn = KNeighborsClassifier(n_neighbors=2)\n",
    "\n",
    "#Train the model using the training sets\n",
    "knn.fit(X_train, y_train)\n",
    "\n",
    "#Predict the response for test dataset\n",
    "y_pred = knn.predict(X_test)"
   ]
  },
  {
   "cell_type": "markdown",
   "metadata": {
    "id": "OaFidwuVX7VD"
   },
   "source": [
    "**Checking Accuracy"
   ]
  },
  {
   "cell_type": "code",
   "execution_count": 43,
   "metadata": {
    "colab": {
     "base_uri": "https://localhost:8080/"
    },
    "id": "Gdn0TDUKX7VE",
    "outputId": "c7ce9e37-8f57-4163-e2ed-e2987abdd7fd"
   },
   "outputs": [
    {
     "name": "stdout",
     "output_type": "stream",
     "text": [
      "Accuracy: 0.7283025444405716\n"
     ]
    }
   ],
   "source": [
    "#Import scikit-learn metrics module for accuracy calculation\n",
    "from sklearn import metrics\n",
    "# Model Accuracy, how often is the classifier correct?\n",
    "print(\"Accuracy:\",metrics.accuracy_score(y_test, y_pred))"
   ]
  },
  {
   "cell_type": "markdown",
   "metadata": {
    "id": "s8AoylSHX7VE"
   },
   "source": [
    "### Also Check with Random Forest Classifier"
   ]
  },
  {
   "cell_type": "code",
   "execution_count": 44,
   "metadata": {
    "colab": {
     "base_uri": "https://localhost:8080/"
    },
    "id": "c5Bv4SGCX7VE",
    "outputId": "baabedb6-d230-49c8-aaa4-13bb1537e624"
   },
   "outputs": [
    {
     "name": "stderr",
     "output_type": "stream",
     "text": [
      "C:\\Anaconda\\lib\\site-packages\\sklearn\\ensemble\\forest.py:246: FutureWarning: The default value of n_estimators will change from 10 in version 0.20 to 100 in 0.22.\n",
      "  \"10 in version 0.20 to 100 in 0.22.\", FutureWarning)\n"
     ]
    },
    {
     "name": "stdout",
     "output_type": "stream",
     "text": [
      "Accuracy: 0.7340536772394562\n"
     ]
    }
   ],
   "source": [
    "from sklearn.ensemble import RandomForestClassifier\n",
    "\n",
    "# define and configure the model\n",
    "model = RandomForestClassifier()\n",
    "\n",
    "# fit the model\n",
    "model.fit(X_train, y_train)\n",
    "\n",
    "# evaluate the model\n",
    "preds = model.predict(X_test)\n",
    "print(\"Accuracy:\",metrics.accuracy_score(y_test, preds))"
   ]
  },
  {
   "cell_type": "markdown",
   "metadata": {
    "id": "boat1l-vX7VF"
   },
   "source": [
    "## Random Forest gives the best accuracy. so it will be used."
   ]
  },
  {
   "cell_type": "markdown",
   "metadata": {
    "id": "oFmRB7OgX7VG"
   },
   "source": [
    "#### HyperParameter Tuning of the Random Forest"
   ]
  },
  {
   "cell_type": "code",
   "execution_count": 45,
   "metadata": {
    "colab": {
     "base_uri": "https://localhost:8080/"
    },
    "id": "SbZPSYHZX7VG",
    "outputId": "c35cbdde-7157-4f70-c091-e99cf8867fee"
   },
   "outputs": [
    {
     "name": "stdout",
     "output_type": "stream",
     "text": [
      "Accuracy: 0.7551411641686999\n"
     ]
    }
   ],
   "source": [
    "ideal_model = RandomForestClassifier(n_estimators= 70,\n",
    "                                     min_samples_split = 8,\n",
    "                                     min_samples_leaf = 1,\n",
    "                                     max_features = 'auto',\n",
    "                                     max_depth = 10)\n",
    "\n",
    "# fit the model\n",
    "ideal_model.fit(X_train, y_train)\n",
    "\n",
    "# evaluate the model\n",
    "preds = ideal_model.predict(X_test)\n",
    "print(\"Accuracy:\",metrics.accuracy_score(y_test, preds))"
   ]
  },
  {
   "cell_type": "markdown",
   "metadata": {
    "id": "SR2-yPK4X7VG"
   },
   "source": [
    "**Let's plot a ROC curve to visulaize the performance of our model**"
   ]
  },
  {
   "cell_type": "code",
   "execution_count": 46,
   "metadata": {
    "colab": {
     "base_uri": "https://localhost:8080/",
     "height": 295
    },
    "id": "yIcjU4g9X7VH",
    "outputId": "3d624932-c4d4-4c0e-f47c-15211cc82c71"
   },
   "outputs": [
    {
     "data": {
      "image/png": "[encoded data removed]",
      "text/plain": [
       "<Figure size 432x288 with 1 Axes>"
      ]
     },
     "metadata": {
      "needs_background": "light"
     },
     "output_type": "display_data"
    }
   ],
   "source": [
    "import sklearn.metrics as metrics\n",
    "# calculate the fpr and tpr for all thresholds of the classification\n",
    "probs = ideal_model.predict_proba(X_test)\n",
    "preds = probs[:,-1]\n",
    "fpr, tpr, threshold = metrics.roc_curve(y_test, preds)\n",
    "roc_auc = metrics.auc(fpr, tpr)\n",
    "\n",
    "# method I: plt\n",
    "import matplotlib.pyplot as plt\n",
    "plt.title('Receiver Operating Characteristic')\n",
    "plt.plot(fpr, tpr, 'b', label = 'AUC = %0.2f' % roc_auc)\n",
    "plt.legend(loc = 'lower right')\n",
    "plt.plot([0, 1], [0, 1],'r--')\n",
    "plt.xlim([0, 1])\n",
    "plt.ylim([0, 1])\n",
    "plt.ylabel('True Positive Rate')\n",
    "plt.xlabel('False Positive Rate')\n",
    "plt.show()"
   ]
  },
  {
   "cell_type": "markdown",
   "metadata": {
    "id": "9QQ2sJosX7VH"
   },
   "source": [
    "#####  Now since we have a good model to predict. Let's Predict whether a person donates or not for our Test data"
   ]
  },
  {
   "cell_type": "markdown",
   "metadata": {
    "id": "HY_WMzcgX7VI"
   },
   "source": [
    "## Importing the Test dataset"
   ]
  },
  {
   "cell_type": "code",
   "execution_count": 47,
   "metadata": {
    "colab": {
     "base_uri": "https://localhost:8080/",
     "height": 224
    },
    "id": "KiLu5HuZX7VI",
    "outputId": "23ffff33-32ef-4f9e-c842-18d40bd5be85"
   },
   "outputs": [
    {
     "data": {
      "text/html": [
       "<div>\n",
       "<style scoped>\n",
       "    .dataframe tbody tr th:only-of-type {\n",
       "        vertical-align: middle;\n",
       "    }\n",
       "\n",
       "    .dataframe tbody tr th {\n",
       "        vertical-align: top;\n",
       "    }\n",
       "\n",
       "    .dataframe thead th {\n",
       "        text-align: right;\n",
       "    }\n",
       "</style>\n",
       "<table border=\"1\" class=\"dataframe\">\n",
       "  <thead>\n",
       "    <tr style=\"text-align: right;\">\n",
       "      <th></th>\n",
       "      <th>CONTROL_NUMBER</th>\n",
       "      <th>MONTHS_SINCE_ORIGIN</th>\n",
       "      <th>DONOR_AGE</th>\n",
       "      <th>IN_HOUSE</th>\n",
       "      <th>URBANICITY</th>\n",
       "      <th>SES</th>\n",
       "      <th>CLUSTER_CODE</th>\n",
       "      <th>HOME_OWNER</th>\n",
       "      <th>DONOR_GENDER</th>\n",
       "      <th>INCOME_GROUP</th>\n",
       "      <th>...</th>\n",
       "      <th>LIFETIME_GIFT_RANGE</th>\n",
       "      <th>LIFETIME_MAX_GIFT_AMT</th>\n",
       "      <th>LIFETIME_MIN_GIFT_AMT</th>\n",
       "      <th>LAST_GIFT_AMT</th>\n",
       "      <th>CARD_PROM_12</th>\n",
       "      <th>NUMBER_PROM_12</th>\n",
       "      <th>MONTHS_SINCE_LAST_GIFT</th>\n",
       "      <th>MONTHS_SINCE_FIRST_GIFT</th>\n",
       "      <th>FILE_AVG_GIFT</th>\n",
       "      <th>FILE_CARD_GIFT</th>\n",
       "    </tr>\n",
       "  </thead>\n",
       "  <tbody>\n",
       "    <tr>\n",
       "      <th>0</th>\n",
       "      <td>139</td>\n",
       "      <td>101</td>\n",
       "      <td>NaN</td>\n",
       "      <td>0</td>\n",
       "      <td>R</td>\n",
       "      <td>2</td>\n",
       "      <td>46</td>\n",
       "      <td>U</td>\n",
       "      <td>F</td>\n",
       "      <td>NaN</td>\n",
       "      <td>...</td>\n",
       "      <td>16.0</td>\n",
       "      <td>21.0</td>\n",
       "      <td>5.0</td>\n",
       "      <td>21.0</td>\n",
       "      <td>4</td>\n",
       "      <td>10</td>\n",
       "      <td>26</td>\n",
       "      <td>90</td>\n",
       "      <td>14.71</td>\n",
       "      <td>2</td>\n",
       "    </tr>\n",
       "    <tr>\n",
       "      <th>1</th>\n",
       "      <td>142</td>\n",
       "      <td>137</td>\n",
       "      <td>NaN</td>\n",
       "      <td>0</td>\n",
       "      <td>R</td>\n",
       "      <td>2</td>\n",
       "      <td>43</td>\n",
       "      <td>U</td>\n",
       "      <td>F</td>\n",
       "      <td>NaN</td>\n",
       "      <td>...</td>\n",
       "      <td>9.0</td>\n",
       "      <td>11.0</td>\n",
       "      <td>2.0</td>\n",
       "      <td>10.0</td>\n",
       "      <td>9</td>\n",
       "      <td>22</td>\n",
       "      <td>22</td>\n",
       "      <td>129</td>\n",
       "      <td>6.00</td>\n",
       "      <td>14</td>\n",
       "    </tr>\n",
       "    <tr>\n",
       "      <th>2</th>\n",
       "      <td>282</td>\n",
       "      <td>17</td>\n",
       "      <td>30.0</td>\n",
       "      <td>0</td>\n",
       "      <td>T</td>\n",
       "      <td>1</td>\n",
       "      <td>35</td>\n",
       "      <td>H</td>\n",
       "      <td>M</td>\n",
       "      <td>6.0</td>\n",
       "      <td>...</td>\n",
       "      <td>15.0</td>\n",
       "      <td>20.0</td>\n",
       "      <td>5.0</td>\n",
       "      <td>20.0</td>\n",
       "      <td>5</td>\n",
       "      <td>14</td>\n",
       "      <td>20</td>\n",
       "      <td>87</td>\n",
       "      <td>8.44</td>\n",
       "      <td>1</td>\n",
       "    </tr>\n",
       "    <tr>\n",
       "      <th>3</th>\n",
       "      <td>368</td>\n",
       "      <td>137</td>\n",
       "      <td>75.0</td>\n",
       "      <td>0</td>\n",
       "      <td>U</td>\n",
       "      <td>1</td>\n",
       "      <td>02</td>\n",
       "      <td>H</td>\n",
       "      <td>M</td>\n",
       "      <td>6.0</td>\n",
       "      <td>...</td>\n",
       "      <td>5.0</td>\n",
       "      <td>10.0</td>\n",
       "      <td>5.0</td>\n",
       "      <td>10.0</td>\n",
       "      <td>10</td>\n",
       "      <td>24</td>\n",
       "      <td>19</td>\n",
       "      <td>129</td>\n",
       "      <td>6.50</td>\n",
       "      <td>22</td>\n",
       "    </tr>\n",
       "    <tr>\n",
       "      <th>4</th>\n",
       "      <td>387</td>\n",
       "      <td>5</td>\n",
       "      <td>NaN</td>\n",
       "      <td>0</td>\n",
       "      <td>T</td>\n",
       "      <td>2</td>\n",
       "      <td>40</td>\n",
       "      <td>U</td>\n",
       "      <td>F</td>\n",
       "      <td>2.0</td>\n",
       "      <td>...</td>\n",
       "      <td>7.0</td>\n",
       "      <td>10.0</td>\n",
       "      <td>3.0</td>\n",
       "      <td>5.0</td>\n",
       "      <td>5</td>\n",
       "      <td>12</td>\n",
       "      <td>18</td>\n",
       "      <td>85</td>\n",
       "      <td>5.83</td>\n",
       "      <td>2</td>\n",
       "    </tr>\n",
       "  </tbody>\n",
       "</table>\n",
       "<p>5 rows × 48 columns</p>\n",
       "</div>"
      ],
      "text/plain": [
       "   CONTROL_NUMBER  MONTHS_SINCE_ORIGIN  DONOR_AGE  IN_HOUSE URBANICITY SES  \\\n",
       "0             139                  101        NaN         0          R   2   \n",
       "1             142                  137        NaN         0          R   2   \n",
       "2             282                   17       30.0         0          T   1   \n",
       "3             368                  137       75.0         0          U   1   \n",
       "4             387                    5        NaN         0          T   2   \n",
       "\n",
       "  CLUSTER_CODE HOME_OWNER DONOR_GENDER  INCOME_GROUP       ...        \\\n",
       "0           46          U            F           NaN       ...         \n",
       "1           43          U            F           NaN       ...         \n",
       "2           35          H            M           6.0       ...         \n",
       "3           02          H            M           6.0       ...         \n",
       "4           40          U            F           2.0       ...         \n",
       "\n",
       "   LIFETIME_GIFT_RANGE LIFETIME_MAX_GIFT_AMT  LIFETIME_MIN_GIFT_AMT  \\\n",
       "0                 16.0                  21.0                    5.0   \n",
       "1                  9.0                  11.0                    2.0   \n",
       "2                 15.0                  20.0                    5.0   \n",
       "3                  5.0                  10.0                    5.0   \n",
       "4                  7.0                  10.0                    3.0   \n",
       "\n",
       "   LAST_GIFT_AMT  CARD_PROM_12  NUMBER_PROM_12  MONTHS_SINCE_LAST_GIFT  \\\n",
       "0           21.0             4              10                      26   \n",
       "1           10.0             9              22                      22   \n",
       "2           20.0             5              14                      20   \n",
       "3           10.0            10              24                      19   \n",
       "4            5.0             5              12                      18   \n",
       "\n",
       "   MONTHS_SINCE_FIRST_GIFT  FILE_AVG_GIFT  FILE_CARD_GIFT  \n",
       "0                       90          14.71               2  \n",
       "1                      129           6.00              14  \n",
       "2                       87           8.44               1  \n",
       "3                      129           6.50              22  \n",
       "4                       85           5.83               2  \n",
       "\n",
       "[5 rows x 48 columns]"
      ]
     },
     "execution_count": 47,
     "metadata": {},
     "output_type": "execute_result"
    }
   ],
   "source": [
    "dataset_test = pd.read_csv('Prospective Donor_ML with Python.csv')\n",
    "dataset_test.head()"
   ]
  },
  {
   "cell_type": "code",
   "execution_count": 48,
   "metadata": {
    "colab": {
     "base_uri": "https://localhost:8080/"
    },
    "id": "4w3ABrqTx1T7",
    "outputId": "4a99f97b-3e17-494e-9846-743f5a0f2f40"
   },
   "outputs": [
    {
     "name": "stdout",
     "output_type": "stream",
     "text": [
      "<class 'pandas.core.frame.DataFrame'>\n",
      "RangeIndex: 2148 entries, 0 to 2147\n",
      "Data columns (total 48 columns):\n",
      "CONTROL_NUMBER                 2148 non-null int64\n",
      "MONTHS_SINCE_ORIGIN            2148 non-null int64\n",
      "DONOR_AGE                      1619 non-null float64\n",
      "IN_HOUSE                       2148 non-null int64\n",
      "URBANICITY                     2148 non-null object\n",
      "SES                            2148 non-null object\n",
      "CLUSTER_CODE                   2148 non-null object\n",
      "HOME_OWNER                     2148 non-null object\n",
      "DONOR_GENDER                   2148 non-null object\n",
      "INCOME_GROUP                   1667 non-null float64\n",
      "PUBLISHED_PHONE                2148 non-null int64\n",
      "OVERLAY_SOURCE                 2148 non-null object\n",
      "MOR_HIT_RATE                   2148 non-null int64\n",
      "WEALTH_RATING                  1142 non-null float64\n",
      "MEDIAN_HOME_VALUE              2148 non-null int64\n",
      "MEDIAN_HOUSEHOLD_INCOME        2148 non-null int64\n",
      "PCT_OWNER_OCCUPIED             2148 non-null int64\n",
      "PER_CAPITA_INCOME              2148 non-null int64\n",
      "PCT_ATTRIBUTE1                 2148 non-null int64\n",
      "PCT_ATTRIBUTE2                 2148 non-null int64\n",
      "PCT_ATTRIBUTE3                 2148 non-null int64\n",
      "PCT_ATTRIBUTE4                 2148 non-null int64\n",
      "PEP_STAR                       2148 non-null int64\n",
      "RECENT_STAR_STATUS             2148 non-null int64\n",
      "RECENCY_STATUS_96NK            2148 non-null object\n",
      "FREQUENCY_STATUS_97NK          2148 non-null int64\n",
      "RECENT_RESPONSE_PROP           2148 non-null float64\n",
      "RECENT_AVG_GIFT_AMT            2148 non-null float64\n",
      "RECENT_CARD_RESPONSE_PROP      2148 non-null float64\n",
      "RECENT_AVG_CARD_GIFT_AMT       2148 non-null float64\n",
      "RECENT_RESPONSE_COUNT          2148 non-null int64\n",
      "RECENT_CARD_RESPONSE_COUNT     2148 non-null int64\n",
      "MONTHS_SINCE_LAST_PROM_RESP    2122 non-null float64\n",
      "LIFETIME_CARD_PROM             2148 non-null int64\n",
      "LIFETIME_PROM                  2148 non-null int64\n",
      "LIFETIME_GIFT_AMOUNT           2148 non-null float64\n",
      "LIFETIME_GIFT_COUNT            2148 non-null int64\n",
      "LIFETIME_AVG_GIFT_AMT          2148 non-null float64\n",
      "LIFETIME_GIFT_RANGE            2148 non-null float64\n",
      "LIFETIME_MAX_GIFT_AMT          2148 non-null float64\n",
      "LIFETIME_MIN_GIFT_AMT          2148 non-null float64\n",
      "LAST_GIFT_AMT                  2148 non-null float64\n",
      "CARD_PROM_12                   2148 non-null int64\n",
      "NUMBER_PROM_12                 2148 non-null int64\n",
      "MONTHS_SINCE_LAST_GIFT         2148 non-null int64\n",
      "MONTHS_SINCE_FIRST_GIFT        2148 non-null int64\n",
      "FILE_AVG_GIFT                  2148 non-null float64\n",
      "FILE_CARD_GIFT                 2148 non-null int64\n",
      "dtypes: float64(15), int64(26), object(7)\n",
      "memory usage: 805.6+ KB\n"
     ]
    }
   ],
   "source": [
    "dataset_test.info()"
   ]
  },
  {
   "cell_type": "code",
   "execution_count": 49,
   "metadata": {
    "colab": {
     "base_uri": "https://localhost:8080/",
     "height": 317
    },
    "id": "flZmaI_Eyc7y",
    "outputId": "143b0277-bc49-43db-f6ac-a4c7d695a1f0"
   },
   "outputs": [
    {
     "data": {
      "text/html": [
       "<div>\n",
       "<style scoped>\n",
       "    .dataframe tbody tr th:only-of-type {\n",
       "        vertical-align: middle;\n",
       "    }\n",
       "\n",
       "    .dataframe tbody tr th {\n",
       "        vertical-align: top;\n",
       "    }\n",
       "\n",
       "    .dataframe thead th {\n",
       "        text-align: right;\n",
       "    }\n",
       "</style>\n",
       "<table border=\"1\" class=\"dataframe\">\n",
       "  <thead>\n",
       "    <tr style=\"text-align: right;\">\n",
       "      <th></th>\n",
       "      <th>CONTROL_NUMBER</th>\n",
       "      <th>MONTHS_SINCE_ORIGIN</th>\n",
       "      <th>DONOR_AGE</th>\n",
       "      <th>IN_HOUSE</th>\n",
       "      <th>INCOME_GROUP</th>\n",
       "      <th>PUBLISHED_PHONE</th>\n",
       "      <th>MOR_HIT_RATE</th>\n",
       "      <th>WEALTH_RATING</th>\n",
       "      <th>MEDIAN_HOME_VALUE</th>\n",
       "      <th>MEDIAN_HOUSEHOLD_INCOME</th>\n",
       "      <th>...</th>\n",
       "      <th>LIFETIME_GIFT_RANGE</th>\n",
       "      <th>LIFETIME_MAX_GIFT_AMT</th>\n",
       "      <th>LIFETIME_MIN_GIFT_AMT</th>\n",
       "      <th>LAST_GIFT_AMT</th>\n",
       "      <th>CARD_PROM_12</th>\n",
       "      <th>NUMBER_PROM_12</th>\n",
       "      <th>MONTHS_SINCE_LAST_GIFT</th>\n",
       "      <th>MONTHS_SINCE_FIRST_GIFT</th>\n",
       "      <th>FILE_AVG_GIFT</th>\n",
       "      <th>FILE_CARD_GIFT</th>\n",
       "    </tr>\n",
       "  </thead>\n",
       "  <tbody>\n",
       "    <tr>\n",
       "      <th>count</th>\n",
       "      <td>2148.000000</td>\n",
       "      <td>2148.000000</td>\n",
       "      <td>1619.000000</td>\n",
       "      <td>2148.000000</td>\n",
       "      <td>1667.000000</td>\n",
       "      <td>2148.000000</td>\n",
       "      <td>2148.000000</td>\n",
       "      <td>1142.000000</td>\n",
       "      <td>2148.000000</td>\n",
       "      <td>2148.000000</td>\n",
       "      <td>...</td>\n",
       "      <td>2148.000000</td>\n",
       "      <td>2148.000000</td>\n",
       "      <td>2148.000000</td>\n",
       "      <td>2148.000000</td>\n",
       "      <td>2148.000000</td>\n",
       "      <td>2148.000000</td>\n",
       "      <td>2148.000000</td>\n",
       "      <td>2148.000000</td>\n",
       "      <td>2148.000000</td>\n",
       "      <td>2148.000000</td>\n",
       "    </tr>\n",
       "    <tr>\n",
       "      <th>mean</th>\n",
       "      <td>96146.865456</td>\n",
       "      <td>73.631285</td>\n",
       "      <td>58.185917</td>\n",
       "      <td>0.067970</td>\n",
       "      <td>3.902819</td>\n",
       "      <td>0.493017</td>\n",
       "      <td>3.357076</td>\n",
       "      <td>4.974606</td>\n",
       "      <td>1028.019088</td>\n",
       "      <td>339.798417</td>\n",
       "      <td>...</td>\n",
       "      <td>10.972472</td>\n",
       "      <td>18.595196</td>\n",
       "      <td>7.622723</td>\n",
       "      <td>16.309828</td>\n",
       "      <td>5.331471</td>\n",
       "      <td>12.702514</td>\n",
       "      <td>18.378492</td>\n",
       "      <td>69.681564</td>\n",
       "      <td>12.649097</td>\n",
       "      <td>5.248603</td>\n",
       "    </tr>\n",
       "    <tr>\n",
       "      <th>std</th>\n",
       "      <td>54518.044553</td>\n",
       "      <td>41.969403</td>\n",
       "      <td>16.765323</td>\n",
       "      <td>0.251753</td>\n",
       "      <td>1.840627</td>\n",
       "      <td>0.500068</td>\n",
       "      <td>8.585609</td>\n",
       "      <td>2.809815</td>\n",
       "      <td>895.363300</td>\n",
       "      <td>149.754159</td>\n",
       "      <td>...</td>\n",
       "      <td>10.053029</td>\n",
       "      <td>10.874603</td>\n",
       "      <td>7.135016</td>\n",
       "      <td>10.367477</td>\n",
       "      <td>1.251732</td>\n",
       "      <td>4.441983</td>\n",
       "      <td>3.960876</td>\n",
       "      <td>38.325088</td>\n",
       "      <td>7.386101</td>\n",
       "      <td>4.717410</td>\n",
       "    </tr>\n",
       "    <tr>\n",
       "      <th>min</th>\n",
       "      <td>139.000000</td>\n",
       "      <td>5.000000</td>\n",
       "      <td>4.000000</td>\n",
       "      <td>0.000000</td>\n",
       "      <td>1.000000</td>\n",
       "      <td>0.000000</td>\n",
       "      <td>0.000000</td>\n",
       "      <td>0.000000</td>\n",
       "      <td>0.000000</td>\n",
       "      <td>0.000000</td>\n",
       "      <td>...</td>\n",
       "      <td>0.000000</td>\n",
       "      <td>5.000000</td>\n",
       "      <td>0.000000</td>\n",
       "      <td>0.000000</td>\n",
       "      <td>1.000000</td>\n",
       "      <td>3.000000</td>\n",
       "      <td>4.000000</td>\n",
       "      <td>15.000000</td>\n",
       "      <td>1.360000</td>\n",
       "      <td>0.000000</td>\n",
       "    </tr>\n",
       "    <tr>\n",
       "      <th>25%</th>\n",
       "      <td>51402.000000</td>\n",
       "      <td>29.000000</td>\n",
       "      <td>46.000000</td>\n",
       "      <td>0.000000</td>\n",
       "      <td>2.000000</td>\n",
       "      <td>0.000000</td>\n",
       "      <td>0.000000</td>\n",
       "      <td>3.000000</td>\n",
       "      <td>508.750000</td>\n",
       "      <td>239.000000</td>\n",
       "      <td>...</td>\n",
       "      <td>5.000000</td>\n",
       "      <td>13.000000</td>\n",
       "      <td>3.000000</td>\n",
       "      <td>10.000000</td>\n",
       "      <td>5.000000</td>\n",
       "      <td>11.000000</td>\n",
       "      <td>16.000000</td>\n",
       "      <td>33.000000</td>\n",
       "      <td>8.130000</td>\n",
       "      <td>2.000000</td>\n",
       "    </tr>\n",
       "    <tr>\n",
       "      <th>50%</th>\n",
       "      <td>96092.000000</td>\n",
       "      <td>65.000000</td>\n",
       "      <td>59.000000</td>\n",
       "      <td>0.000000</td>\n",
       "      <td>4.000000</td>\n",
       "      <td>0.000000</td>\n",
       "      <td>0.000000</td>\n",
       "      <td>5.000000</td>\n",
       "      <td>738.500000</td>\n",
       "      <td>314.000000</td>\n",
       "      <td>...</td>\n",
       "      <td>10.000000</td>\n",
       "      <td>16.000000</td>\n",
       "      <td>5.000000</td>\n",
       "      <td>15.000000</td>\n",
       "      <td>6.000000</td>\n",
       "      <td>12.000000</td>\n",
       "      <td>18.000000</td>\n",
       "      <td>65.000000</td>\n",
       "      <td>11.290000</td>\n",
       "      <td>4.000000</td>\n",
       "    </tr>\n",
       "    <tr>\n",
       "      <th>75%</th>\n",
       "      <td>143196.000000</td>\n",
       "      <td>113.000000</td>\n",
       "      <td>71.000000</td>\n",
       "      <td>0.000000</td>\n",
       "      <td>5.000000</td>\n",
       "      <td>1.000000</td>\n",
       "      <td>3.000000</td>\n",
       "      <td>7.000000</td>\n",
       "      <td>1159.500000</td>\n",
       "      <td>415.000000</td>\n",
       "      <td>...</td>\n",
       "      <td>15.000000</td>\n",
       "      <td>20.000000</td>\n",
       "      <td>10.000000</td>\n",
       "      <td>20.000000</td>\n",
       "      <td>6.000000</td>\n",
       "      <td>13.000000</td>\n",
       "      <td>21.000000</td>\n",
       "      <td>105.000000</td>\n",
       "      <td>15.000000</td>\n",
       "      <td>8.000000</td>\n",
       "    </tr>\n",
       "    <tr>\n",
       "      <th>max</th>\n",
       "      <td>191710.000000</td>\n",
       "      <td>137.000000</td>\n",
       "      <td>87.000000</td>\n",
       "      <td>1.000000</td>\n",
       "      <td>7.000000</td>\n",
       "      <td>1.000000</td>\n",
       "      <td>240.000000</td>\n",
       "      <td>9.000000</td>\n",
       "      <td>5982.000000</td>\n",
       "      <td>1500.000000</td>\n",
       "      <td>...</td>\n",
       "      <td>145.000000</td>\n",
       "      <td>150.000000</td>\n",
       "      <td>100.000000</td>\n",
       "      <td>150.000000</td>\n",
       "      <td>13.000000</td>\n",
       "      <td>47.000000</td>\n",
       "      <td>27.000000</td>\n",
       "      <td>187.000000</td>\n",
       "      <td>100.000000</td>\n",
       "      <td>32.000000</td>\n",
       "    </tr>\n",
       "  </tbody>\n",
       "</table>\n",
       "<p>8 rows × 41 columns</p>\n",
       "</div>"
      ],
      "text/plain": [
       "       CONTROL_NUMBER  MONTHS_SINCE_ORIGIN    DONOR_AGE     IN_HOUSE  \\\n",
       "count     2148.000000          2148.000000  1619.000000  2148.000000   \n",
       "mean     96146.865456            73.631285    58.185917     0.067970   \n",
       "std      54518.044553            41.969403    16.765323     0.251753   \n",
       "min        139.000000             5.000000     4.000000     0.000000   \n",
       "25%      51402.000000            29.000000    46.000000     0.000000   \n",
       "50%      96092.000000            65.000000    59.000000     0.000000   \n",
       "75%     143196.000000           113.000000    71.000000     0.000000   \n",
       "max     191710.000000           137.000000    87.000000     1.000000   \n",
       "\n",
       "       INCOME_GROUP  PUBLISHED_PHONE  MOR_HIT_RATE  WEALTH_RATING  \\\n",
       "count   1667.000000      2148.000000   2148.000000    1142.000000   \n",
       "mean       3.902819         0.493017      3.357076       4.974606   \n",
       "std        1.840627         0.500068      8.585609       2.809815   \n",
       "min        1.000000         0.000000      0.000000       0.000000   \n",
       "25%        2.000000         0.000000      0.000000       3.000000   \n",
       "50%        4.000000         0.000000      0.000000       5.000000   \n",
       "75%        5.000000         1.000000      3.000000       7.000000   \n",
       "max        7.000000         1.000000    240.000000       9.000000   \n",
       "\n",
       "       MEDIAN_HOME_VALUE  MEDIAN_HOUSEHOLD_INCOME       ...        \\\n",
       "count        2148.000000              2148.000000       ...         \n",
       "mean         1028.019088               339.798417       ...         \n",
       "std           895.363300               149.754159       ...         \n",
       "min             0.000000                 0.000000       ...         \n",
       "25%           508.750000               239.000000       ...         \n",
       "50%           738.500000               314.000000       ...         \n",
       "75%          1159.500000               415.000000       ...         \n",
       "max          5982.000000              1500.000000       ...         \n",
       "\n",
       "       LIFETIME_GIFT_RANGE  LIFETIME_MAX_GIFT_AMT  LIFETIME_MIN_GIFT_AMT  \\\n",
       "count          2148.000000            2148.000000            2148.000000   \n",
       "mean             10.972472              18.595196               7.622723   \n",
       "std              10.053029              10.874603               7.135016   \n",
       "min               0.000000               5.000000               0.000000   \n",
       "25%               5.000000              13.000000               3.000000   \n",
       "50%              10.000000              16.000000               5.000000   \n",
       "75%              15.000000              20.000000              10.000000   \n",
       "max             145.000000             150.000000             100.000000   \n",
       "\n",
       "       LAST_GIFT_AMT  CARD_PROM_12  NUMBER_PROM_12  MONTHS_SINCE_LAST_GIFT  \\\n",
       "count    2148.000000   2148.000000     2148.000000             2148.000000   \n",
       "mean       16.309828      5.331471       12.702514               18.378492   \n",
       "std        10.367477      1.251732        4.441983                3.960876   \n",
       "min         0.000000      1.000000        3.000000                4.000000   \n",
       "25%        10.000000      5.000000       11.000000               16.000000   \n",
       "50%        15.000000      6.000000       12.000000               18.000000   \n",
       "75%        20.000000      6.000000       13.000000               21.000000   \n",
       "max       150.000000     13.000000       47.000000               27.000000   \n",
       "\n",
       "       MONTHS_SINCE_FIRST_GIFT  FILE_AVG_GIFT  FILE_CARD_GIFT  \n",
       "count              2148.000000    2148.000000     2148.000000  \n",
       "mean                 69.681564      12.649097        5.248603  \n",
       "std                  38.325088       7.386101        4.717410  \n",
       "min                  15.000000       1.360000        0.000000  \n",
       "25%                  33.000000       8.130000        2.000000  \n",
       "50%                  65.000000      11.290000        4.000000  \n",
       "75%                 105.000000      15.000000        8.000000  \n",
       "max                 187.000000     100.000000       32.000000  \n",
       "\n",
       "[8 rows x 41 columns]"
      ]
     },
     "execution_count": 49,
     "metadata": {},
     "output_type": "execute_result"
    }
   ],
   "source": [
    "dataset_test.describe()"
   ]
  },
  {
   "cell_type": "code",
   "execution_count": 50,
   "metadata": {
    "colab": {
     "base_uri": "https://localhost:8080/"
    },
    "id": "0GLwZFPwyZkO",
    "outputId": "42902c44-8300-4181-90a7-1b8e53501e2e"
   },
   "outputs": [
    {
     "data": {
      "text/plain": [
       "Index(['CONTROL_NUMBER', 'MONTHS_SINCE_ORIGIN', 'DONOR_AGE', 'IN_HOUSE',\n",
       "       'URBANICITY', 'SES', 'CLUSTER_CODE', 'HOME_OWNER', 'DONOR_GENDER',\n",
       "       'INCOME_GROUP', 'PUBLISHED_PHONE', 'OVERLAY_SOURCE', 'MOR_HIT_RATE',\n",
       "       'WEALTH_RATING', 'MEDIAN_HOME_VALUE', 'MEDIAN_HOUSEHOLD_INCOME',\n",
       "       'PCT_OWNER_OCCUPIED', 'PER_CAPITA_INCOME', 'PCT_ATTRIBUTE1',\n",
       "       'PCT_ATTRIBUTE2', 'PCT_ATTRIBUTE3', 'PCT_ATTRIBUTE4', 'PEP_STAR',\n",
       "       'RECENT_STAR_STATUS', 'RECENCY_STATUS_96NK', 'FREQUENCY_STATUS_97NK',\n",
       "       'RECENT_RESPONSE_PROP', 'RECENT_AVG_GIFT_AMT',\n",
       "       'RECENT_CARD_RESPONSE_PROP', 'RECENT_AVG_CARD_GIFT_AMT',\n",
       "       'RECENT_RESPONSE_COUNT', 'RECENT_CARD_RESPONSE_COUNT',\n",
       "       'MONTHS_SINCE_LAST_PROM_RESP', 'LIFETIME_CARD_PROM', 'LIFETIME_PROM',\n",
       "       'LIFETIME_GIFT_AMOUNT', 'LIFETIME_GIFT_COUNT', 'LIFETIME_AVG_GIFT_AMT',\n",
       "       'LIFETIME_GIFT_RANGE', 'LIFETIME_MAX_GIFT_AMT', 'LIFETIME_MIN_GIFT_AMT',\n",
       "       'LAST_GIFT_AMT', 'CARD_PROM_12', 'NUMBER_PROM_12',\n",
       "       'MONTHS_SINCE_LAST_GIFT', 'MONTHS_SINCE_FIRST_GIFT', 'FILE_AVG_GIFT',\n",
       "       'FILE_CARD_GIFT'],\n",
       "      dtype='object')"
      ]
     },
     "execution_count": 50,
     "metadata": {},
     "output_type": "execute_result"
    }
   ],
   "source": [
    "dataset_test.columns"
   ]
  },
  {
   "cell_type": "code",
   "execution_count": 51,
   "metadata": {
    "colab": {
     "base_uri": "https://localhost:8080/"
    },
    "id": "jW6_ha7cyjVM",
    "outputId": "5bb2f7a8-7542-4b23-9b4b-bb985f9f6c88"
   },
   "outputs": [
    {
     "data": {
      "text/plain": [
       "CONTROL_NUMBER                    0\n",
       "MONTHS_SINCE_ORIGIN               0\n",
       "DONOR_AGE                       529\n",
       "IN_HOUSE                          0\n",
       "URBANICITY                        0\n",
       "SES                               0\n",
       "CLUSTER_CODE                      0\n",
       "HOME_OWNER                        0\n",
       "DONOR_GENDER                      0\n",
       "INCOME_GROUP                    481\n",
       "PUBLISHED_PHONE                   0\n",
       "OVERLAY_SOURCE                    0\n",
       "MOR_HIT_RATE                      0\n",
       "WEALTH_RATING                  1006\n",
       "MEDIAN_HOME_VALUE                 0\n",
       "MEDIAN_HOUSEHOLD_INCOME           0\n",
       "PCT_OWNER_OCCUPIED                0\n",
       "PER_CAPITA_INCOME                 0\n",
       "PCT_ATTRIBUTE1                    0\n",
       "PCT_ATTRIBUTE2                    0\n",
       "PCT_ATTRIBUTE3                    0\n",
       "PCT_ATTRIBUTE4                    0\n",
       "PEP_STAR                          0\n",
       "RECENT_STAR_STATUS                0\n",
       "RECENCY_STATUS_96NK               0\n",
       "FREQUENCY_STATUS_97NK             0\n",
       "RECENT_RESPONSE_PROP              0\n",
       "RECENT_AVG_GIFT_AMT               0\n",
       "RECENT_CARD_RESPONSE_PROP         0\n",
       "RECENT_AVG_CARD_GIFT_AMT          0\n",
       "RECENT_RESPONSE_COUNT             0\n",
       "RECENT_CARD_RESPONSE_COUNT        0\n",
       "MONTHS_SINCE_LAST_PROM_RESP      26\n",
       "LIFETIME_CARD_PROM                0\n",
       "LIFETIME_PROM                     0\n",
       "LIFETIME_GIFT_AMOUNT              0\n",
       "LIFETIME_GIFT_COUNT               0\n",
       "LIFETIME_AVG_GIFT_AMT             0\n",
       "LIFETIME_GIFT_RANGE               0\n",
       "LIFETIME_MAX_GIFT_AMT             0\n",
       "LIFETIME_MIN_GIFT_AMT             0\n",
       "LAST_GIFT_AMT                     0\n",
       "CARD_PROM_12                      0\n",
       "NUMBER_PROM_12                    0\n",
       "MONTHS_SINCE_LAST_GIFT            0\n",
       "MONTHS_SINCE_FIRST_GIFT           0\n",
       "FILE_AVG_GIFT                     0\n",
       "FILE_CARD_GIFT                    0\n",
       "dtype: int64"
      ]
     },
     "execution_count": 51,
     "metadata": {},
     "output_type": "execute_result"
    }
   ],
   "source": [
    "dataset_test.isnull().sum()"
   ]
  },
  {
   "cell_type": "markdown",
   "metadata": {},
   "source": [
    "### Cleaning the Data"
   ]
  },
  {
   "cell_type": "code",
   "execution_count": 52,
   "metadata": {
    "colab": {
     "base_uri": "https://localhost:8080/"
    },
    "id": "M0mGTVZfy9lj",
    "outputId": "e83513b3-c480-447d-c6c3-19a70c2fbb87"
   },
   "outputs": [
    {
     "data": {
      "text/plain": [
       "Index(['DONOR_AGE', 'INCOME_GROUP', 'WEALTH_RATING',\n",
       "       'MONTHS_SINCE_LAST_PROM_RESP'],\n",
       "      dtype='object')"
      ]
     },
     "execution_count": 52,
     "metadata": {},
     "output_type": "execute_result"
    }
   ],
   "source": [
    "dataset_test.columns[dataset_test.isnull().any()]"
   ]
  },
  {
   "cell_type": "code",
   "execution_count": 53,
   "metadata": {
    "id": "P7p1HQpRzT6E"
   },
   "outputs": [],
   "source": [
    "dataset_test['DONOR_AGE']=dataset_test['DONOR_AGE'].fillna(dataset_test['DONOR_AGE'].median())"
   ]
  },
  {
   "cell_type": "code",
   "execution_count": 54,
   "metadata": {
    "id": "wwFacxlyzbaR"
   },
   "outputs": [],
   "source": [
    "dataset_test['DONOR_AGE']=dataset_test['DONOR_AGE'].astype('int64')"
   ]
  },
  {
   "cell_type": "code",
   "execution_count": 55,
   "metadata": {
    "id": "c1df1z4czgWm"
   },
   "outputs": [],
   "source": [
    "dataset_test['INCOME_GROUP']=dataset_test['INCOME_GROUP'].fillna(dataset_test['INCOME_GROUP'].mode()[0])"
   ]
  },
  {
   "cell_type": "code",
   "execution_count": 56,
   "metadata": {
    "id": "jYurxvlmzp9K"
   },
   "outputs": [],
   "source": [
    "dataset_test['INCOME_GROUP']=dataset_test['INCOME_GROUP'].astype('int64')"
   ]
  },
  {
   "cell_type": "code",
   "execution_count": 57,
   "metadata": {
    "id": "aeW8LtOGzugI"
   },
   "outputs": [],
   "source": [
    "dataset_test['WEALTH_RATING']=dataset_test['WEALTH_RATING'].fillna(dataset_test['WEALTH_RATING'].mode()[0])"
   ]
  },
  {
   "cell_type": "code",
   "execution_count": 58,
   "metadata": {
    "id": "4huh0ghmzyju"
   },
   "outputs": [],
   "source": [
    "dataset_test['WEALTH_RATING']=dataset_test['WEALTH_RATING'].astype('int64')"
   ]
  },
  {
   "cell_type": "code",
   "execution_count": 59,
   "metadata": {
    "id": "M2SZCl7lz76V"
   },
   "outputs": [],
   "source": [
    "dataset_test=dataset_test.dropna()"
   ]
  },
  {
   "cell_type": "code",
   "execution_count": 60,
   "metadata": {
    "colab": {
     "base_uri": "https://localhost:8080/"
    },
    "id": "lmqHHKG30EiZ",
    "outputId": "b880bec9-305f-44af-b963-6b066caad0f2"
   },
   "outputs": [
    {
     "data": {
      "text/plain": [
       "Index([], dtype='object')"
      ]
     },
     "execution_count": 60,
     "metadata": {},
     "output_type": "execute_result"
    }
   ],
   "source": [
    "dataset_test.columns[dataset_test.isnull().any()]"
   ]
  },
  {
   "cell_type": "code",
   "execution_count": 61,
   "metadata": {
    "colab": {
     "base_uri": "https://localhost:8080/",
     "height": 224
    },
    "id": "uj7fl8mU0JWt",
    "outputId": "7ac8183e-6bf0-4ec1-befe-85e182eff9ab"
   },
   "outputs": [
    {
     "data": {
      "text/html": [
       "<div>\n",
       "<style scoped>\n",
       "    .dataframe tbody tr th:only-of-type {\n",
       "        vertical-align: middle;\n",
       "    }\n",
       "\n",
       "    .dataframe tbody tr th {\n",
       "        vertical-align: top;\n",
       "    }\n",
       "\n",
       "    .dataframe thead th {\n",
       "        text-align: right;\n",
       "    }\n",
       "</style>\n",
       "<table border=\"1\" class=\"dataframe\">\n",
       "  <thead>\n",
       "    <tr style=\"text-align: right;\">\n",
       "      <th></th>\n",
       "      <th>CONTROL_NUMBER</th>\n",
       "      <th>MONTHS_SINCE_ORIGIN</th>\n",
       "      <th>DONOR_AGE</th>\n",
       "      <th>IN_HOUSE</th>\n",
       "      <th>URBANICITY</th>\n",
       "      <th>SES</th>\n",
       "      <th>CLUSTER_CODE</th>\n",
       "      <th>HOME_OWNER</th>\n",
       "      <th>DONOR_GENDER</th>\n",
       "      <th>INCOME_GROUP</th>\n",
       "      <th>...</th>\n",
       "      <th>LIFETIME_GIFT_RANGE</th>\n",
       "      <th>LIFETIME_MAX_GIFT_AMT</th>\n",
       "      <th>LIFETIME_MIN_GIFT_AMT</th>\n",
       "      <th>LAST_GIFT_AMT</th>\n",
       "      <th>CARD_PROM_12</th>\n",
       "      <th>NUMBER_PROM_12</th>\n",
       "      <th>MONTHS_SINCE_LAST_GIFT</th>\n",
       "      <th>MONTHS_SINCE_FIRST_GIFT</th>\n",
       "      <th>FILE_AVG_GIFT</th>\n",
       "      <th>FILE_CARD_GIFT</th>\n",
       "    </tr>\n",
       "  </thead>\n",
       "  <tbody>\n",
       "    <tr>\n",
       "      <th>0</th>\n",
       "      <td>139</td>\n",
       "      <td>101</td>\n",
       "      <td>59</td>\n",
       "      <td>0</td>\n",
       "      <td>R</td>\n",
       "      <td>2</td>\n",
       "      <td>46</td>\n",
       "      <td>U</td>\n",
       "      <td>F</td>\n",
       "      <td>5</td>\n",
       "      <td>...</td>\n",
       "      <td>16.0</td>\n",
       "      <td>21.0</td>\n",
       "      <td>5.0</td>\n",
       "      <td>21.0</td>\n",
       "      <td>4</td>\n",
       "      <td>10</td>\n",
       "      <td>26</td>\n",
       "      <td>90</td>\n",
       "      <td>14.71</td>\n",
       "      <td>2</td>\n",
       "    </tr>\n",
       "    <tr>\n",
       "      <th>1</th>\n",
       "      <td>142</td>\n",
       "      <td>137</td>\n",
       "      <td>59</td>\n",
       "      <td>0</td>\n",
       "      <td>R</td>\n",
       "      <td>2</td>\n",
       "      <td>43</td>\n",
       "      <td>U</td>\n",
       "      <td>F</td>\n",
       "      <td>5</td>\n",
       "      <td>...</td>\n",
       "      <td>9.0</td>\n",
       "      <td>11.0</td>\n",
       "      <td>2.0</td>\n",
       "      <td>10.0</td>\n",
       "      <td>9</td>\n",
       "      <td>22</td>\n",
       "      <td>22</td>\n",
       "      <td>129</td>\n",
       "      <td>6.00</td>\n",
       "      <td>14</td>\n",
       "    </tr>\n",
       "    <tr>\n",
       "      <th>2</th>\n",
       "      <td>282</td>\n",
       "      <td>17</td>\n",
       "      <td>30</td>\n",
       "      <td>0</td>\n",
       "      <td>T</td>\n",
       "      <td>1</td>\n",
       "      <td>35</td>\n",
       "      <td>H</td>\n",
       "      <td>M</td>\n",
       "      <td>6</td>\n",
       "      <td>...</td>\n",
       "      <td>15.0</td>\n",
       "      <td>20.0</td>\n",
       "      <td>5.0</td>\n",
       "      <td>20.0</td>\n",
       "      <td>5</td>\n",
       "      <td>14</td>\n",
       "      <td>20</td>\n",
       "      <td>87</td>\n",
       "      <td>8.44</td>\n",
       "      <td>1</td>\n",
       "    </tr>\n",
       "    <tr>\n",
       "      <th>3</th>\n",
       "      <td>368</td>\n",
       "      <td>137</td>\n",
       "      <td>75</td>\n",
       "      <td>0</td>\n",
       "      <td>U</td>\n",
       "      <td>1</td>\n",
       "      <td>02</td>\n",
       "      <td>H</td>\n",
       "      <td>M</td>\n",
       "      <td>6</td>\n",
       "      <td>...</td>\n",
       "      <td>5.0</td>\n",
       "      <td>10.0</td>\n",
       "      <td>5.0</td>\n",
       "      <td>10.0</td>\n",
       "      <td>10</td>\n",
       "      <td>24</td>\n",
       "      <td>19</td>\n",
       "      <td>129</td>\n",
       "      <td>6.50</td>\n",
       "      <td>22</td>\n",
       "    </tr>\n",
       "    <tr>\n",
       "      <th>4</th>\n",
       "      <td>387</td>\n",
       "      <td>5</td>\n",
       "      <td>59</td>\n",
       "      <td>0</td>\n",
       "      <td>T</td>\n",
       "      <td>2</td>\n",
       "      <td>40</td>\n",
       "      <td>U</td>\n",
       "      <td>F</td>\n",
       "      <td>2</td>\n",
       "      <td>...</td>\n",
       "      <td>7.0</td>\n",
       "      <td>10.0</td>\n",
       "      <td>3.0</td>\n",
       "      <td>5.0</td>\n",
       "      <td>5</td>\n",
       "      <td>12</td>\n",
       "      <td>18</td>\n",
       "      <td>85</td>\n",
       "      <td>5.83</td>\n",
       "      <td>2</td>\n",
       "    </tr>\n",
       "  </tbody>\n",
       "</table>\n",
       "<p>5 rows × 48 columns</p>\n",
       "</div>"
      ],
      "text/plain": [
       "   CONTROL_NUMBER  MONTHS_SINCE_ORIGIN  DONOR_AGE  IN_HOUSE URBANICITY SES  \\\n",
       "0             139                  101         59         0          R   2   \n",
       "1             142                  137         59         0          R   2   \n",
       "2             282                   17         30         0          T   1   \n",
       "3             368                  137         75         0          U   1   \n",
       "4             387                    5         59         0          T   2   \n",
       "\n",
       "  CLUSTER_CODE HOME_OWNER DONOR_GENDER  INCOME_GROUP       ...        \\\n",
       "0           46          U            F             5       ...         \n",
       "1           43          U            F             5       ...         \n",
       "2           35          H            M             6       ...         \n",
       "3           02          H            M             6       ...         \n",
       "4           40          U            F             2       ...         \n",
       "\n",
       "   LIFETIME_GIFT_RANGE LIFETIME_MAX_GIFT_AMT  LIFETIME_MIN_GIFT_AMT  \\\n",
       "0                 16.0                  21.0                    5.0   \n",
       "1                  9.0                  11.0                    2.0   \n",
       "2                 15.0                  20.0                    5.0   \n",
       "3                  5.0                  10.0                    5.0   \n",
       "4                  7.0                  10.0                    3.0   \n",
       "\n",
       "   LAST_GIFT_AMT  CARD_PROM_12  NUMBER_PROM_12  MONTHS_SINCE_LAST_GIFT  \\\n",
       "0           21.0             4              10                      26   \n",
       "1           10.0             9              22                      22   \n",
       "2           20.0             5              14                      20   \n",
       "3           10.0            10              24                      19   \n",
       "4            5.0             5              12                      18   \n",
       "\n",
       "   MONTHS_SINCE_FIRST_GIFT  FILE_AVG_GIFT  FILE_CARD_GIFT  \n",
       "0                       90          14.71               2  \n",
       "1                      129           6.00              14  \n",
       "2                       87           8.44               1  \n",
       "3                      129           6.50              22  \n",
       "4                       85           5.83               2  \n",
       "\n",
       "[5 rows x 48 columns]"
      ]
     },
     "execution_count": 61,
     "metadata": {},
     "output_type": "execute_result"
    }
   ],
   "source": [
    "dataset_test.head()"
   ]
  },
  {
   "cell_type": "code",
   "execution_count": 62,
   "metadata": {
    "colab": {
     "base_uri": "https://localhost:8080/"
    },
    "id": "3V8U1KD90RWe",
    "outputId": "aaf9c2fd-3300-4593-d461-c32817cde621"
   },
   "outputs": [
    {
     "data": {
      "text/plain": [
       "2    1060\n",
       "1     607\n",
       "3     351\n",
       "?      53\n",
       "4      51\n",
       "Name: SES, dtype: int64"
      ]
     },
     "execution_count": 62,
     "metadata": {},
     "output_type": "execute_result"
    }
   ],
   "source": [
    "dataset_test['SES'].value_counts()"
   ]
  },
  {
   "cell_type": "code",
   "execution_count": 63,
   "metadata": {
    "id": "OWO3IM7v0WoD"
   },
   "outputs": [],
   "source": [
    "dataset_test['SES']=dataset_test['SES'].str.replace('?','2')\n",
    "dataset_test['SES']=dataset_test['SES'].astype('int64')"
   ]
  },
  {
   "cell_type": "code",
   "execution_count": 64,
   "metadata": {
    "colab": {
     "base_uri": "https://localhost:8080/"
    },
    "id": "HlFJri9G0gjc",
    "outputId": "8b555f64-3a49-4127-ead6-4e5d041aee9d"
   },
   "outputs": [
    {
     "data": {
      "text/plain": [
       "S    486\n",
       "C    453\n",
       "R    437\n",
       "T    419\n",
       "U    274\n",
       "?     53\n",
       "Name: URBANICITY, dtype: int64"
      ]
     },
     "execution_count": 64,
     "metadata": {},
     "output_type": "execute_result"
    }
   ],
   "source": [
    "dataset_test['URBANICITY'].value_counts()"
   ]
  },
  {
   "cell_type": "code",
   "execution_count": 65,
   "metadata": {
    "id": "_F47YfB70nG7"
   },
   "outputs": [],
   "source": [
    "dataset_test['URBANICITY']=dataset_test['URBANICITY'].str.replace('?','S')"
   ]
  },
  {
   "cell_type": "code",
   "execution_count": 66,
   "metadata": {
    "colab": {
     "base_uri": "https://localhost:8080/"
    },
    "id": "ah-HasO70uPb",
    "outputId": "8cf84cee-707a-4b47-a9b9-7c585d4531fb"
   },
   "outputs": [
    {
     "data": {
      "text/plain": [
       "24    103\n",
       "40     88\n",
       "18     87\n",
       "27     84\n",
       "12     80\n",
       "36     79\n",
       "49     78\n",
       "35     69\n",
       "51     60\n",
       "45     56\n",
       "43     54\n",
       "39     53\n",
       "41     53\n",
       " .     53\n",
       "10     51\n",
       "11     50\n",
       "44     48\n",
       "21     48\n",
       "13     47\n",
       "30     46\n",
       "14     46\n",
       "08     46\n",
       "16     38\n",
       "46     36\n",
       "02     35\n",
       "20     35\n",
       "03     34\n",
       "17     33\n",
       "28     33\n",
       "25     31\n",
       "26     30\n",
       "34     29\n",
       "05     29\n",
       "22     29\n",
       "42     27\n",
       "37     25\n",
       "29     25\n",
       "23     23\n",
       "38     23\n",
       "47     22\n",
       "31     22\n",
       "48     19\n",
       "01     19\n",
       "53     17\n",
       "04     17\n",
       "07     16\n",
       "15     16\n",
       "32     15\n",
       "06     15\n",
       "50     14\n",
       "09     12\n",
       "33     12\n",
       "52      6\n",
       "19      6\n",
       "Name: CLUSTER_CODE, dtype: int64"
      ]
     },
     "execution_count": 66,
     "metadata": {},
     "output_type": "execute_result"
    }
   ],
   "source": [
    "dataset_test['CLUSTER_CODE'].value_counts()"
   ]
  },
  {
   "cell_type": "code",
   "execution_count": 67,
   "metadata": {
    "id": "p1nmNhrE00Yd"
   },
   "outputs": [],
   "source": [
    "dataset_test['CLUSTER_CODE']=dataset_test['CLUSTER_CODE'].str.replace('.','40')\n",
    "dataset_test['CLUSTER_CODE']=dataset_test['CLUSTER_CODE'].astype('int64')"
   ]
  },
  {
   "cell_type": "code",
   "execution_count": 68,
   "metadata": {
    "colab": {
     "base_uri": "https://localhost:8080/"
    },
    "id": "3iJFEICgZeAB",
    "outputId": "3e480bc2-0176-4315-fe04-07efe50bdf2b"
   },
   "outputs": [
    {
     "name": "stdout",
     "output_type": "stream",
     "text": [
      "<class 'pandas.core.frame.DataFrame'>\n",
      "Int64Index: 2122 entries, 0 to 2147\n",
      "Data columns (total 48 columns):\n",
      "CONTROL_NUMBER                 2122 non-null int64\n",
      "MONTHS_SINCE_ORIGIN            2122 non-null int64\n",
      "DONOR_AGE                      2122 non-null int64\n",
      "IN_HOUSE                       2122 non-null int64\n",
      "URBANICITY                     2122 non-null object\n",
      "SES                            2122 non-null int64\n",
      "CLUSTER_CODE                   2122 non-null int64\n",
      "HOME_OWNER                     2122 non-null object\n",
      "DONOR_GENDER                   2122 non-null object\n",
      "INCOME_GROUP                   2122 non-null int64\n",
      "PUBLISHED_PHONE                2122 non-null int64\n",
      "OVERLAY_SOURCE                 2122 non-null object\n",
      "MOR_HIT_RATE                   2122 non-null int64\n",
      "WEALTH_RATING                  2122 non-null int64\n",
      "MEDIAN_HOME_VALUE              2122 non-null int64\n",
      "MEDIAN_HOUSEHOLD_INCOME        2122 non-null int64\n",
      "PCT_OWNER_OCCUPIED             2122 non-null int64\n",
      "PER_CAPITA_INCOME              2122 non-null int64\n",
      "PCT_ATTRIBUTE1                 2122 non-null int64\n",
      "PCT_ATTRIBUTE2                 2122 non-null int64\n",
      "PCT_ATTRIBUTE3                 2122 non-null int64\n",
      "PCT_ATTRIBUTE4                 2122 non-null int64\n",
      "PEP_STAR                       2122 non-null int64\n",
      "RECENT_STAR_STATUS             2122 non-null int64\n",
      "RECENCY_STATUS_96NK            2122 non-null object\n",
      "FREQUENCY_STATUS_97NK          2122 non-null int64\n",
      "RECENT_RESPONSE_PROP           2122 non-null float64\n",
      "RECENT_AVG_GIFT_AMT            2122 non-null float64\n",
      "RECENT_CARD_RESPONSE_PROP      2122 non-null float64\n",
      "RECENT_AVG_CARD_GIFT_AMT       2122 non-null float64\n",
      "RECENT_RESPONSE_COUNT          2122 non-null int64\n",
      "RECENT_CARD_RESPONSE_COUNT     2122 non-null int64\n",
      "MONTHS_SINCE_LAST_PROM_RESP    2122 non-null float64\n",
      "LIFETIME_CARD_PROM             2122 non-null int64\n",
      "LIFETIME_PROM                  2122 non-null int64\n",
      "LIFETIME_GIFT_AMOUNT           2122 non-null float64\n",
      "LIFETIME_GIFT_COUNT            2122 non-null int64\n",
      "LIFETIME_AVG_GIFT_AMT          2122 non-null float64\n",
      "LIFETIME_GIFT_RANGE            2122 non-null float64\n",
      "LIFETIME_MAX_GIFT_AMT          2122 non-null float64\n",
      "LIFETIME_MIN_GIFT_AMT          2122 non-null float64\n",
      "LAST_GIFT_AMT                  2122 non-null float64\n",
      "CARD_PROM_12                   2122 non-null int64\n",
      "NUMBER_PROM_12                 2122 non-null int64\n",
      "MONTHS_SINCE_LAST_GIFT         2122 non-null int64\n",
      "MONTHS_SINCE_FIRST_GIFT        2122 non-null int64\n",
      "FILE_AVG_GIFT                  2122 non-null float64\n",
      "FILE_CARD_GIFT                 2122 non-null int64\n",
      "dtypes: float64(12), int64(31), object(5)\n",
      "memory usage: 812.3+ KB\n"
     ]
    }
   ],
   "source": [
    "dataset_test.info()"
   ]
  },
  {
   "cell_type": "markdown",
   "metadata": {},
   "source": [
    "### Apply One Hot Encoding"
   ]
  },
  {
   "cell_type": "code",
   "execution_count": 69,
   "metadata": {
    "id": "wYE_UPWHbsIt"
   },
   "outputs": [],
   "source": [
    "from sklearn.preprocessing import LabelEncoder\n",
    "\n",
    "number = LabelEncoder()\n",
    "\n",
    "dataset_test['DONOR_GENDER'] = number.fit_transform(dataset_test['DONOR_GENDER'].astype(str))"
   ]
  },
  {
   "cell_type": "markdown",
   "metadata": {
    "id": "Hu868O_j1f5U"
   },
   "source": [
    "**Drop columns which are meaningless when attempting to find patterns**"
   ]
  },
  {
   "cell_type": "code",
   "execution_count": 70,
   "metadata": {
    "colab": {
     "base_uri": "https://localhost:8080/",
     "height": 224
    },
    "id": "CnCrM08R1qg7",
    "outputId": "482be724-f00a-4dcb-dafa-09be4d9ad57a"
   },
   "outputs": [
    {
     "data": {
      "text/html": [
       "<div>\n",
       "<style scoped>\n",
       "    .dataframe tbody tr th:only-of-type {\n",
       "        vertical-align: middle;\n",
       "    }\n",
       "\n",
       "    .dataframe tbody tr th {\n",
       "        vertical-align: top;\n",
       "    }\n",
       "\n",
       "    .dataframe thead th {\n",
       "        text-align: right;\n",
       "    }\n",
       "</style>\n",
       "<table border=\"1\" class=\"dataframe\">\n",
       "  <thead>\n",
       "    <tr style=\"text-align: right;\">\n",
       "      <th></th>\n",
       "      <th>CONTROL_NUMBER</th>\n",
       "      <th>MONTHS_SINCE_ORIGIN</th>\n",
       "      <th>DONOR_AGE</th>\n",
       "      <th>IN_HOUSE</th>\n",
       "      <th>URBANICITY</th>\n",
       "      <th>SES</th>\n",
       "      <th>CLUSTER_CODE</th>\n",
       "      <th>HOME_OWNER</th>\n",
       "      <th>DONOR_GENDER</th>\n",
       "      <th>INCOME_GROUP</th>\n",
       "      <th>...</th>\n",
       "      <th>LIFETIME_GIFT_RANGE</th>\n",
       "      <th>LIFETIME_MAX_GIFT_AMT</th>\n",
       "      <th>LIFETIME_MIN_GIFT_AMT</th>\n",
       "      <th>LAST_GIFT_AMT</th>\n",
       "      <th>CARD_PROM_12</th>\n",
       "      <th>NUMBER_PROM_12</th>\n",
       "      <th>MONTHS_SINCE_LAST_GIFT</th>\n",
       "      <th>MONTHS_SINCE_FIRST_GIFT</th>\n",
       "      <th>FILE_AVG_GIFT</th>\n",
       "      <th>FILE_CARD_GIFT</th>\n",
       "    </tr>\n",
       "  </thead>\n",
       "  <tbody>\n",
       "    <tr>\n",
       "      <th>0</th>\n",
       "      <td>139</td>\n",
       "      <td>101</td>\n",
       "      <td>59</td>\n",
       "      <td>0</td>\n",
       "      <td>R</td>\n",
       "      <td>2</td>\n",
       "      <td>46</td>\n",
       "      <td>U</td>\n",
       "      <td>0</td>\n",
       "      <td>5</td>\n",
       "      <td>...</td>\n",
       "      <td>16.0</td>\n",
       "      <td>21.0</td>\n",
       "      <td>5.0</td>\n",
       "      <td>21.0</td>\n",
       "      <td>4</td>\n",
       "      <td>10</td>\n",
       "      <td>26</td>\n",
       "      <td>90</td>\n",
       "      <td>14.71</td>\n",
       "      <td>2</td>\n",
       "    </tr>\n",
       "    <tr>\n",
       "      <th>1</th>\n",
       "      <td>142</td>\n",
       "      <td>137</td>\n",
       "      <td>59</td>\n",
       "      <td>0</td>\n",
       "      <td>R</td>\n",
       "      <td>2</td>\n",
       "      <td>43</td>\n",
       "      <td>U</td>\n",
       "      <td>0</td>\n",
       "      <td>5</td>\n",
       "      <td>...</td>\n",
       "      <td>9.0</td>\n",
       "      <td>11.0</td>\n",
       "      <td>2.0</td>\n",
       "      <td>10.0</td>\n",
       "      <td>9</td>\n",
       "      <td>22</td>\n",
       "      <td>22</td>\n",
       "      <td>129</td>\n",
       "      <td>6.00</td>\n",
       "      <td>14</td>\n",
       "    </tr>\n",
       "    <tr>\n",
       "      <th>2</th>\n",
       "      <td>282</td>\n",
       "      <td>17</td>\n",
       "      <td>30</td>\n",
       "      <td>0</td>\n",
       "      <td>T</td>\n",
       "      <td>1</td>\n",
       "      <td>35</td>\n",
       "      <td>H</td>\n",
       "      <td>1</td>\n",
       "      <td>6</td>\n",
       "      <td>...</td>\n",
       "      <td>15.0</td>\n",
       "      <td>20.0</td>\n",
       "      <td>5.0</td>\n",
       "      <td>20.0</td>\n",
       "      <td>5</td>\n",
       "      <td>14</td>\n",
       "      <td>20</td>\n",
       "      <td>87</td>\n",
       "      <td>8.44</td>\n",
       "      <td>1</td>\n",
       "    </tr>\n",
       "    <tr>\n",
       "      <th>3</th>\n",
       "      <td>368</td>\n",
       "      <td>137</td>\n",
       "      <td>75</td>\n",
       "      <td>0</td>\n",
       "      <td>U</td>\n",
       "      <td>1</td>\n",
       "      <td>2</td>\n",
       "      <td>H</td>\n",
       "      <td>1</td>\n",
       "      <td>6</td>\n",
       "      <td>...</td>\n",
       "      <td>5.0</td>\n",
       "      <td>10.0</td>\n",
       "      <td>5.0</td>\n",
       "      <td>10.0</td>\n",
       "      <td>10</td>\n",
       "      <td>24</td>\n",
       "      <td>19</td>\n",
       "      <td>129</td>\n",
       "      <td>6.50</td>\n",
       "      <td>22</td>\n",
       "    </tr>\n",
       "    <tr>\n",
       "      <th>4</th>\n",
       "      <td>387</td>\n",
       "      <td>5</td>\n",
       "      <td>59</td>\n",
       "      <td>0</td>\n",
       "      <td>T</td>\n",
       "      <td>2</td>\n",
       "      <td>40</td>\n",
       "      <td>U</td>\n",
       "      <td>0</td>\n",
       "      <td>2</td>\n",
       "      <td>...</td>\n",
       "      <td>7.0</td>\n",
       "      <td>10.0</td>\n",
       "      <td>3.0</td>\n",
       "      <td>5.0</td>\n",
       "      <td>5</td>\n",
       "      <td>12</td>\n",
       "      <td>18</td>\n",
       "      <td>85</td>\n",
       "      <td>5.83</td>\n",
       "      <td>2</td>\n",
       "    </tr>\n",
       "  </tbody>\n",
       "</table>\n",
       "<p>5 rows × 42 columns</p>\n",
       "</div>"
      ],
      "text/plain": [
       "   CONTROL_NUMBER  MONTHS_SINCE_ORIGIN  DONOR_AGE  IN_HOUSE URBANICITY  SES  \\\n",
       "0             139                  101         59         0          R    2   \n",
       "1             142                  137         59         0          R    2   \n",
       "2             282                   17         30         0          T    1   \n",
       "3             368                  137         75         0          U    1   \n",
       "4             387                    5         59         0          T    2   \n",
       "\n",
       "   CLUSTER_CODE HOME_OWNER  DONOR_GENDER  INCOME_GROUP       ...        \\\n",
       "0            46          U             0             5       ...         \n",
       "1            43          U             0             5       ...         \n",
       "2            35          H             1             6       ...         \n",
       "3             2          H             1             6       ...         \n",
       "4            40          U             0             2       ...         \n",
       "\n",
       "  LIFETIME_GIFT_RANGE  LIFETIME_MAX_GIFT_AMT  LIFETIME_MIN_GIFT_AMT  \\\n",
       "0                16.0                   21.0                    5.0   \n",
       "1                 9.0                   11.0                    2.0   \n",
       "2                15.0                   20.0                    5.0   \n",
       "3                 5.0                   10.0                    5.0   \n",
       "4                 7.0                   10.0                    3.0   \n",
       "\n",
       "   LAST_GIFT_AMT  CARD_PROM_12  NUMBER_PROM_12  MONTHS_SINCE_LAST_GIFT  \\\n",
       "0           21.0             4              10                      26   \n",
       "1           10.0             9              22                      22   \n",
       "2           20.0             5              14                      20   \n",
       "3           10.0            10              24                      19   \n",
       "4            5.0             5              12                      18   \n",
       "\n",
       "   MONTHS_SINCE_FIRST_GIFT  FILE_AVG_GIFT  FILE_CARD_GIFT  \n",
       "0                       90          14.71               2  \n",
       "1                      129           6.00              14  \n",
       "2                       87           8.44               1  \n",
       "3                      129           6.50              22  \n",
       "4                       85           5.83               2  \n",
       "\n",
       "[5 rows x 42 columns]"
      ]
     },
     "execution_count": 70,
     "metadata": {},
     "output_type": "execute_result"
    }
   ],
   "source": [
    "dataset_test.drop(['PUBLISHED_PHONE', 'RECENCY_STATUS_96NK', 'PCT_ATTRIBUTE1', 'PCT_ATTRIBUTE2', 'PCT_ATTRIBUTE3', 'PCT_ATTRIBUTE4'], 'columns', inplace=True)\n",
    "dataset_test.head() #Dropping irrelevant columns in the Training Dataset"
   ]
  },
  {
   "cell_type": "code",
   "execution_count": 71,
   "metadata": {
    "colab": {
     "base_uri": "https://localhost:8080/",
     "height": 224
    },
    "id": "c7MtA-Ti1FC_",
    "outputId": "1948531a-26fb-49ce-f2e1-388be3e994f0"
   },
   "outputs": [
    {
     "data": {
      "text/html": [
       "<div>\n",
       "<style scoped>\n",
       "    .dataframe tbody tr th:only-of-type {\n",
       "        vertical-align: middle;\n",
       "    }\n",
       "\n",
       "    .dataframe tbody tr th {\n",
       "        vertical-align: top;\n",
       "    }\n",
       "\n",
       "    .dataframe thead th {\n",
       "        text-align: right;\n",
       "    }\n",
       "</style>\n",
       "<table border=\"1\" class=\"dataframe\">\n",
       "  <thead>\n",
       "    <tr style=\"text-align: right;\">\n",
       "      <th></th>\n",
       "      <th>CONTROL_NUMBER</th>\n",
       "      <th>MONTHS_SINCE_ORIGIN</th>\n",
       "      <th>DONOR_AGE</th>\n",
       "      <th>IN_HOUSE</th>\n",
       "      <th>SES</th>\n",
       "      <th>CLUSTER_CODE</th>\n",
       "      <th>DONOR_GENDER</th>\n",
       "      <th>INCOME_GROUP</th>\n",
       "      <th>MOR_HIT_RATE</th>\n",
       "      <th>WEALTH_RATING</th>\n",
       "      <th>...</th>\n",
       "      <th>FILE_AVG_GIFT</th>\n",
       "      <th>FILE_CARD_GIFT</th>\n",
       "      <th>URBANICITY_R</th>\n",
       "      <th>URBANICITY_S</th>\n",
       "      <th>URBANICITY_T</th>\n",
       "      <th>URBANICITY_U</th>\n",
       "      <th>HOME_OWNER_U</th>\n",
       "      <th>OVERLAY_SOURCE_M</th>\n",
       "      <th>OVERLAY_SOURCE_N</th>\n",
       "      <th>OVERLAY_SOURCE_P</th>\n",
       "    </tr>\n",
       "  </thead>\n",
       "  <tbody>\n",
       "    <tr>\n",
       "      <th>0</th>\n",
       "      <td>139</td>\n",
       "      <td>101</td>\n",
       "      <td>59</td>\n",
       "      <td>0</td>\n",
       "      <td>2</td>\n",
       "      <td>46</td>\n",
       "      <td>0</td>\n",
       "      <td>5</td>\n",
       "      <td>0</td>\n",
       "      <td>9</td>\n",
       "      <td>...</td>\n",
       "      <td>14.71</td>\n",
       "      <td>2</td>\n",
       "      <td>1</td>\n",
       "      <td>0</td>\n",
       "      <td>0</td>\n",
       "      <td>0</td>\n",
       "      <td>1</td>\n",
       "      <td>0</td>\n",
       "      <td>1</td>\n",
       "      <td>0</td>\n",
       "    </tr>\n",
       "    <tr>\n",
       "      <th>1</th>\n",
       "      <td>142</td>\n",
       "      <td>137</td>\n",
       "      <td>59</td>\n",
       "      <td>0</td>\n",
       "      <td>2</td>\n",
       "      <td>43</td>\n",
       "      <td>0</td>\n",
       "      <td>5</td>\n",
       "      <td>0</td>\n",
       "      <td>1</td>\n",
       "      <td>...</td>\n",
       "      <td>6.00</td>\n",
       "      <td>14</td>\n",
       "      <td>1</td>\n",
       "      <td>0</td>\n",
       "      <td>0</td>\n",
       "      <td>0</td>\n",
       "      <td>1</td>\n",
       "      <td>0</td>\n",
       "      <td>1</td>\n",
       "      <td>0</td>\n",
       "    </tr>\n",
       "    <tr>\n",
       "      <th>2</th>\n",
       "      <td>282</td>\n",
       "      <td>17</td>\n",
       "      <td>30</td>\n",
       "      <td>0</td>\n",
       "      <td>1</td>\n",
       "      <td>35</td>\n",
       "      <td>1</td>\n",
       "      <td>6</td>\n",
       "      <td>11</td>\n",
       "      <td>9</td>\n",
       "      <td>...</td>\n",
       "      <td>8.44</td>\n",
       "      <td>1</td>\n",
       "      <td>0</td>\n",
       "      <td>0</td>\n",
       "      <td>1</td>\n",
       "      <td>0</td>\n",
       "      <td>0</td>\n",
       "      <td>0</td>\n",
       "      <td>0</td>\n",
       "      <td>0</td>\n",
       "    </tr>\n",
       "    <tr>\n",
       "      <th>3</th>\n",
       "      <td>368</td>\n",
       "      <td>137</td>\n",
       "      <td>75</td>\n",
       "      <td>0</td>\n",
       "      <td>1</td>\n",
       "      <td>2</td>\n",
       "      <td>1</td>\n",
       "      <td>6</td>\n",
       "      <td>1</td>\n",
       "      <td>7</td>\n",
       "      <td>...</td>\n",
       "      <td>6.50</td>\n",
       "      <td>22</td>\n",
       "      <td>0</td>\n",
       "      <td>0</td>\n",
       "      <td>0</td>\n",
       "      <td>1</td>\n",
       "      <td>0</td>\n",
       "      <td>0</td>\n",
       "      <td>0</td>\n",
       "      <td>0</td>\n",
       "    </tr>\n",
       "    <tr>\n",
       "      <th>4</th>\n",
       "      <td>387</td>\n",
       "      <td>5</td>\n",
       "      <td>59</td>\n",
       "      <td>0</td>\n",
       "      <td>2</td>\n",
       "      <td>40</td>\n",
       "      <td>0</td>\n",
       "      <td>2</td>\n",
       "      <td>0</td>\n",
       "      <td>9</td>\n",
       "      <td>...</td>\n",
       "      <td>5.83</td>\n",
       "      <td>2</td>\n",
       "      <td>0</td>\n",
       "      <td>0</td>\n",
       "      <td>1</td>\n",
       "      <td>0</td>\n",
       "      <td>1</td>\n",
       "      <td>0</td>\n",
       "      <td>0</td>\n",
       "      <td>0</td>\n",
       "    </tr>\n",
       "  </tbody>\n",
       "</table>\n",
       "<p>5 rows × 47 columns</p>\n",
       "</div>"
      ],
      "text/plain": [
       "   CONTROL_NUMBER  MONTHS_SINCE_ORIGIN  DONOR_AGE  IN_HOUSE  SES  \\\n",
       "0             139                  101         59         0    2   \n",
       "1             142                  137         59         0    2   \n",
       "2             282                   17         30         0    1   \n",
       "3             368                  137         75         0    1   \n",
       "4             387                    5         59         0    2   \n",
       "\n",
       "   CLUSTER_CODE  DONOR_GENDER  INCOME_GROUP  MOR_HIT_RATE  WEALTH_RATING  \\\n",
       "0            46             0             5             0              9   \n",
       "1            43             0             5             0              1   \n",
       "2            35             1             6            11              9   \n",
       "3             2             1             6             1              7   \n",
       "4            40             0             2             0              9   \n",
       "\n",
       "         ...         FILE_AVG_GIFT  FILE_CARD_GIFT  URBANICITY_R  \\\n",
       "0        ...                 14.71               2             1   \n",
       "1        ...                  6.00              14             1   \n",
       "2        ...                  8.44               1             0   \n",
       "3        ...                  6.50              22             0   \n",
       "4        ...                  5.83               2             0   \n",
       "\n",
       "   URBANICITY_S  URBANICITY_T  URBANICITY_U  HOME_OWNER_U  OVERLAY_SOURCE_M  \\\n",
       "0             0             0             0             1                 0   \n",
       "1             0             0             0             1                 0   \n",
       "2             0             1             0             0                 0   \n",
       "3             0             0             1             0                 0   \n",
       "4             0             1             0             1                 0   \n",
       "\n",
       "   OVERLAY_SOURCE_N  OVERLAY_SOURCE_P  \n",
       "0                 1                 0  \n",
       "1                 1                 0  \n",
       "2                 0                 0  \n",
       "3                 0                 0  \n",
       "4                 0                 0  \n",
       "\n",
       "[5 rows x 47 columns]"
      ]
     },
     "execution_count": 71,
     "metadata": {},
     "output_type": "execute_result"
    }
   ],
   "source": [
    "expanded_dataset_test =pd.get_dummies(dataset_test, columns=['URBANICITY', 'HOME_OWNER', 'OVERLAY_SOURCE'], drop_first = True)\n",
    "expanded_dataset_test.head()"
   ]
  },
  {
   "cell_type": "code",
   "execution_count": 72,
   "metadata": {
    "colab": {
     "base_uri": "https://localhost:8080/"
    },
    "id": "sZ5RjNA92NHT",
    "outputId": "1e167a47-32d3-4bcd-acb9-166f172e6782"
   },
   "outputs": [
    {
     "data": {
      "text/plain": [
       "Index(['CONTROL_NUMBER', 'MONTHS_SINCE_ORIGIN', 'DONOR_AGE', 'IN_HOUSE', 'SES',\n",
       "       'CLUSTER_CODE', 'DONOR_GENDER', 'INCOME_GROUP', 'MOR_HIT_RATE',\n",
       "       'WEALTH_RATING', 'MEDIAN_HOME_VALUE', 'MEDIAN_HOUSEHOLD_INCOME',\n",
       "       'PCT_OWNER_OCCUPIED', 'PER_CAPITA_INCOME', 'PEP_STAR',\n",
       "       'RECENT_STAR_STATUS', 'FREQUENCY_STATUS_97NK', 'RECENT_RESPONSE_PROP',\n",
       "       'RECENT_AVG_GIFT_AMT', 'RECENT_CARD_RESPONSE_PROP',\n",
       "       'RECENT_AVG_CARD_GIFT_AMT', 'RECENT_RESPONSE_COUNT',\n",
       "       'RECENT_CARD_RESPONSE_COUNT', 'MONTHS_SINCE_LAST_PROM_RESP',\n",
       "       'LIFETIME_CARD_PROM', 'LIFETIME_PROM', 'LIFETIME_GIFT_AMOUNT',\n",
       "       'LIFETIME_GIFT_COUNT', 'LIFETIME_AVG_GIFT_AMT', 'LIFETIME_GIFT_RANGE',\n",
       "       'LIFETIME_MAX_GIFT_AMT', 'LIFETIME_MIN_GIFT_AMT', 'LAST_GIFT_AMT',\n",
       "       'CARD_PROM_12', 'NUMBER_PROM_12', 'MONTHS_SINCE_LAST_GIFT',\n",
       "       'MONTHS_SINCE_FIRST_GIFT', 'FILE_AVG_GIFT', 'FILE_CARD_GIFT',\n",
       "       'URBANICITY_R', 'URBANICITY_S', 'URBANICITY_T', 'URBANICITY_U',\n",
       "       'HOME_OWNER_U', 'OVERLAY_SOURCE_M', 'OVERLAY_SOURCE_N',\n",
       "       'OVERLAY_SOURCE_P'],\n",
       "      dtype='object')"
      ]
     },
     "execution_count": 72,
     "metadata": {},
     "output_type": "execute_result"
    }
   ],
   "source": [
    "#Checking new column names\n",
    "expanded_dataset_test.columns"
   ]
  },
  {
   "cell_type": "code",
   "execution_count": 73,
   "metadata": {
    "colab": {
     "base_uri": "https://localhost:8080/"
    },
    "id": "x7Cgr4YN5_FH",
    "outputId": "9130257a-1fa1-4387-fb6a-c8dce3b8133b"
   },
   "outputs": [
    {
     "name": "stdout",
     "output_type": "stream",
     "text": [
      "<class 'pandas.core.frame.DataFrame'>\n",
      "Int64Index: 2122 entries, 0 to 2147\n",
      "Data columns (total 47 columns):\n",
      "CONTROL_NUMBER                 2122 non-null int64\n",
      "MONTHS_SINCE_ORIGIN            2122 non-null int64\n",
      "DONOR_AGE                      2122 non-null int64\n",
      "IN_HOUSE                       2122 non-null int64\n",
      "SES                            2122 non-null int64\n",
      "CLUSTER_CODE                   2122 non-null int64\n",
      "DONOR_GENDER                   2122 non-null int32\n",
      "INCOME_GROUP                   2122 non-null int64\n",
      "MOR_HIT_RATE                   2122 non-null int64\n",
      "WEALTH_RATING                  2122 non-null int64\n",
      "MEDIAN_HOME_VALUE              2122 non-null int64\n",
      "MEDIAN_HOUSEHOLD_INCOME        2122 non-null int64\n",
      "PCT_OWNER_OCCUPIED             2122 non-null int64\n",
      "PER_CAPITA_INCOME              2122 non-null int64\n",
      "PEP_STAR                       2122 non-null int64\n",
      "RECENT_STAR_STATUS             2122 non-null int64\n",
      "FREQUENCY_STATUS_97NK          2122 non-null int64\n",
      "RECENT_RESPONSE_PROP           2122 non-null float64\n",
      "RECENT_AVG_GIFT_AMT            2122 non-null float64\n",
      "RECENT_CARD_RESPONSE_PROP      2122 non-null float64\n",
      "RECENT_AVG_CARD_GIFT_AMT       2122 non-null float64\n",
      "RECENT_RESPONSE_COUNT          2122 non-null int64\n",
      "RECENT_CARD_RESPONSE_COUNT     2122 non-null int64\n",
      "MONTHS_SINCE_LAST_PROM_RESP    2122 non-null float64\n",
      "LIFETIME_CARD_PROM             2122 non-null int64\n",
      "LIFETIME_PROM                  2122 non-null int64\n",
      "LIFETIME_GIFT_AMOUNT           2122 non-null float64\n",
      "LIFETIME_GIFT_COUNT            2122 non-null int64\n",
      "LIFETIME_AVG_GIFT_AMT          2122 non-null float64\n",
      "LIFETIME_GIFT_RANGE            2122 non-null float64\n",
      "LIFETIME_MAX_GIFT_AMT          2122 non-null float64\n",
      "LIFETIME_MIN_GIFT_AMT          2122 non-null float64\n",
      "LAST_GIFT_AMT                  2122 non-null float64\n",
      "CARD_PROM_12                   2122 non-null int64\n",
      "NUMBER_PROM_12                 2122 non-null int64\n",
      "MONTHS_SINCE_LAST_GIFT         2122 non-null int64\n",
      "MONTHS_SINCE_FIRST_GIFT        2122 non-null int64\n",
      "FILE_AVG_GIFT                  2122 non-null float64\n",
      "FILE_CARD_GIFT                 2122 non-null int64\n",
      "URBANICITY_R                   2122 non-null uint8\n",
      "URBANICITY_S                   2122 non-null uint8\n",
      "URBANICITY_T                   2122 non-null uint8\n",
      "URBANICITY_U                   2122 non-null uint8\n",
      "HOME_OWNER_U                   2122 non-null uint8\n",
      "OVERLAY_SOURCE_M               2122 non-null uint8\n",
      "OVERLAY_SOURCE_N               2122 non-null uint8\n",
      "OVERLAY_SOURCE_P               2122 non-null uint8\n",
      "dtypes: float64(12), int32(1), int64(26), uint8(8)\n",
      "memory usage: 671.4 KB\n"
     ]
    }
   ],
   "source": [
    "expanded_dataset_test.info()"
   ]
  },
  {
   "cell_type": "markdown",
   "metadata": {
    "id": "GyB3ngkb2uzZ"
   },
   "source": [
    "**Feature Scaling**"
   ]
  },
  {
   "cell_type": "code",
   "execution_count": 74,
   "metadata": {
    "id": "24GIu8No2n3G"
   },
   "outputs": [
    {
     "name": "stderr",
     "output_type": "stream",
     "text": [
      "C:\\Anaconda\\lib\\site-packages\\sklearn\\preprocessing\\data.py:625: DataConversionWarning: Data with input dtype uint8, int32, int64, float64 were all converted to float64 by StandardScaler.\n",
      "  return self.partial_fit(X, y)\n",
      "C:\\Anaconda\\lib\\site-packages\\sklearn\\base.py:462: DataConversionWarning: Data with input dtype uint8, int32, int64, float64 were all converted to float64 by StandardScaler.\n",
      "  return self.fit(X, **fit_params).transform(X)\n"
     ]
    }
   ],
   "source": [
    "from sklearn.preprocessing import StandardScaler\n",
    "sc = StandardScaler()\n",
    "expanded_dataset_test_sc = sc.fit_transform(expanded_dataset_test)"
   ]
  },
  {
   "cell_type": "markdown",
   "metadata": {
    "id": "08XrC6q0X7VO"
   },
   "source": [
    "#### Data Coordination"
   ]
  },
  {
   "cell_type": "code",
   "execution_count": 75,
   "metadata": {
    "colab": {
     "base_uri": "https://localhost:8080/"
    },
    "id": "Sm6NnPU42F0-",
    "outputId": "4dfebb27-1f67-46e5-f9ec-2085ac8cac70"
   },
   "outputs": [
    {
     "data": {
      "text/plain": [
       "(2122, 47)"
      ]
     },
     "execution_count": 75,
     "metadata": {},
     "output_type": "execute_result"
    }
   ],
   "source": [
    "expanded_dataset_test_sc.shape"
   ]
  },
  {
   "cell_type": "markdown",
   "metadata": {
    "id": "AuCaMEuXX7VQ"
   },
   "source": [
    "**Now our dataset is cleaned. We can easily predict the Target variable for our dataset.**"
   ]
  },
  {
   "cell_type": "code",
   "execution_count": 76,
   "metadata": {
    "colab": {
     "base_uri": "https://localhost:8080/"
    },
    "id": "uPSaH66aX7VQ",
    "outputId": "30e80160-e63d-40d8-ebce-07b4c14b9e7f"
   },
   "outputs": [
    {
     "data": {
      "text/plain": [
       "array([0, 0, 0, ..., 0, 0, 0], dtype=int64)"
      ]
     },
     "execution_count": 76,
     "metadata": {},
     "output_type": "execute_result"
    }
   ],
   "source": [
    "Target = ideal_model.predict(expanded_dataset_test_sc)\n",
    "Target"
   ]
  },
  {
   "cell_type": "code",
   "execution_count": 77,
   "metadata": {
    "colab": {
     "base_uri": "https://localhost:8080/"
    },
    "id": "hHylDpNjX7VQ",
    "outputId": "0ac186bb-4139-49b8-b79f-8b0bd7b3b974"
   },
   "outputs": [
    {
     "name": "stdout",
     "output_type": "stream",
     "text": [
      "      TARGET_B  CONTROL_NUMBER\n",
      "4            1           387.0\n",
      "15           1          1012.0\n",
      "20           1          1799.0\n",
      "21           1          1920.0\n",
      "22           1          2085.0\n",
      "29           1          2861.0\n",
      "63           1          5331.0\n",
      "64           1          5510.0\n",
      "67           1          5642.0\n",
      "92           1          8245.0\n",
      "130          1         11921.0\n",
      "174          1         15830.0\n",
      "305          1         27829.0\n",
      "527          1         50487.0\n",
      "536          1         51285.0\n",
      "590          1         56255.0\n",
      "601          1         57039.0\n",
      "623          1         59076.0\n",
      "884          1         80358.0\n",
      "1100         1         98030.0\n",
      "1201         1        106850.0\n",
      "1273         1        112347.0\n",
      "1332         1        116998.0\n",
      "1368         1        120822.0\n",
      "1544         1        137945.0\n",
      "1621         1        143895.0\n",
      "1658         1        146392.0\n",
      "1667         1        147047.0\n",
      "1678         1        147804.0\n",
      "1830         1        161593.0\n",
      "1834         1        162146.0\n",
      "1943         1        172854.0\n",
      "1980         1        176296.0\n",
      "2029         1        180321.0\n",
      "2048         1        181891.0\n",
      "2056         1        182604.0\n",
      "2060         1        182955.0\n",
      "2064         1        183241.0\n",
      "2067         1        183673.0\n",
      "2076         1        184478.0\n",
      "2098         1        187362.0\n",
      "2100         1        187639.0\n",
      "2103         1        187739.0\n",
      "2111         1        188185.0\n"
     ]
    }
   ],
   "source": [
    "PREDICTED_df = pd.DataFrame()\n",
    "PREDICTED_df['TARGET_B'] = Target\n",
    "PREDICTED_df['CONTROL_NUMBER'] = dataset_test['CONTROL_NUMBER']\n",
    "print(PREDICTED_df.loc[PREDICTED_df['TARGET_B'] ==1])"
   ]
  },
  {
   "cell_type": "code",
   "execution_count": 96,
   "metadata": {},
   "outputs": [
    {
     "data": {
      "text/html": [
       "<div>\n",
       "<style scoped>\n",
       "    .dataframe tbody tr th:only-of-type {\n",
       "        vertical-align: middle;\n",
       "    }\n",
       "\n",
       "    .dataframe tbody tr th {\n",
       "        vertical-align: top;\n",
       "    }\n",
       "\n",
       "    .dataframe thead th {\n",
       "        text-align: right;\n",
       "    }\n",
       "</style>\n",
       "<table border=\"1\" class=\"dataframe\">\n",
       "  <thead>\n",
       "    <tr style=\"text-align: right;\">\n",
       "      <th></th>\n",
       "      <th>TARGET_B</th>\n",
       "      <th>CONTROL_NUMBER</th>\n",
       "    </tr>\n",
       "  </thead>\n",
       "  <tbody>\n",
       "    <tr>\n",
       "      <th>0</th>\n",
       "      <td>0</td>\n",
       "      <td>139.0</td>\n",
       "    </tr>\n",
       "    <tr>\n",
       "      <th>1</th>\n",
       "      <td>0</td>\n",
       "      <td>142.0</td>\n",
       "    </tr>\n",
       "    <tr>\n",
       "      <th>2</th>\n",
       "      <td>0</td>\n",
       "      <td>282.0</td>\n",
       "    </tr>\n",
       "    <tr>\n",
       "      <th>3</th>\n",
       "      <td>0</td>\n",
       "      <td>368.0</td>\n",
       "    </tr>\n",
       "    <tr>\n",
       "      <th>4</th>\n",
       "      <td>1</td>\n",
       "      <td>387.0</td>\n",
       "    </tr>\n",
       "    <tr>\n",
       "      <th>5</th>\n",
       "      <td>0</td>\n",
       "      <td>458.0</td>\n",
       "    </tr>\n",
       "    <tr>\n",
       "      <th>6</th>\n",
       "      <td>0</td>\n",
       "      <td>564.0</td>\n",
       "    </tr>\n",
       "    <tr>\n",
       "      <th>7</th>\n",
       "      <td>0</td>\n",
       "      <td>665.0</td>\n",
       "    </tr>\n",
       "    <tr>\n",
       "      <th>8</th>\n",
       "      <td>0</td>\n",
       "      <td>702.0</td>\n",
       "    </tr>\n",
       "    <tr>\n",
       "      <th>9</th>\n",
       "      <td>0</td>\n",
       "      <td>743.0</td>\n",
       "    </tr>\n",
       "    <tr>\n",
       "      <th>10</th>\n",
       "      <td>0</td>\n",
       "      <td>788.0</td>\n",
       "    </tr>\n",
       "    <tr>\n",
       "      <th>11</th>\n",
       "      <td>0</td>\n",
       "      <td>790.0</td>\n",
       "    </tr>\n",
       "    <tr>\n",
       "      <th>12</th>\n",
       "      <td>0</td>\n",
       "      <td>804.0</td>\n",
       "    </tr>\n",
       "    <tr>\n",
       "      <th>13</th>\n",
       "      <td>0</td>\n",
       "      <td>917.0</td>\n",
       "    </tr>\n",
       "    <tr>\n",
       "      <th>14</th>\n",
       "      <td>0</td>\n",
       "      <td>968.0</td>\n",
       "    </tr>\n",
       "    <tr>\n",
       "      <th>15</th>\n",
       "      <td>1</td>\n",
       "      <td>1012.0</td>\n",
       "    </tr>\n",
       "    <tr>\n",
       "      <th>16</th>\n",
       "      <td>0</td>\n",
       "      <td>1245.0</td>\n",
       "    </tr>\n",
       "    <tr>\n",
       "      <th>17</th>\n",
       "      <td>0</td>\n",
       "      <td>1280.0</td>\n",
       "    </tr>\n",
       "    <tr>\n",
       "      <th>18</th>\n",
       "      <td>0</td>\n",
       "      <td>1400.0</td>\n",
       "    </tr>\n",
       "    <tr>\n",
       "      <th>19</th>\n",
       "      <td>0</td>\n",
       "      <td>1493.0</td>\n",
       "    </tr>\n",
       "    <tr>\n",
       "      <th>20</th>\n",
       "      <td>1</td>\n",
       "      <td>1799.0</td>\n",
       "    </tr>\n",
       "    <tr>\n",
       "      <th>21</th>\n",
       "      <td>1</td>\n",
       "      <td>1920.0</td>\n",
       "    </tr>\n",
       "    <tr>\n",
       "      <th>22</th>\n",
       "      <td>1</td>\n",
       "      <td>2085.0</td>\n",
       "    </tr>\n",
       "    <tr>\n",
       "      <th>23</th>\n",
       "      <td>0</td>\n",
       "      <td>2168.0</td>\n",
       "    </tr>\n",
       "    <tr>\n",
       "      <th>24</th>\n",
       "      <td>0</td>\n",
       "      <td>2315.0</td>\n",
       "    </tr>\n",
       "    <tr>\n",
       "      <th>25</th>\n",
       "      <td>0</td>\n",
       "      <td>2340.0</td>\n",
       "    </tr>\n",
       "    <tr>\n",
       "      <th>26</th>\n",
       "      <td>0</td>\n",
       "      <td>2431.0</td>\n",
       "    </tr>\n",
       "    <tr>\n",
       "      <th>27</th>\n",
       "      <td>0</td>\n",
       "      <td>2678.0</td>\n",
       "    </tr>\n",
       "    <tr>\n",
       "      <th>28</th>\n",
       "      <td>0</td>\n",
       "      <td>2691.0</td>\n",
       "    </tr>\n",
       "    <tr>\n",
       "      <th>29</th>\n",
       "      <td>1</td>\n",
       "      <td>2861.0</td>\n",
       "    </tr>\n",
       "    <tr>\n",
       "      <th>...</th>\n",
       "      <td>...</td>\n",
       "      <td>...</td>\n",
       "    </tr>\n",
       "    <tr>\n",
       "      <th>2092</th>\n",
       "      <td>0</td>\n",
       "      <td>186647.0</td>\n",
       "    </tr>\n",
       "    <tr>\n",
       "      <th>2093</th>\n",
       "      <td>0</td>\n",
       "      <td>186989.0</td>\n",
       "    </tr>\n",
       "    <tr>\n",
       "      <th>2094</th>\n",
       "      <td>0</td>\n",
       "      <td>187074.0</td>\n",
       "    </tr>\n",
       "    <tr>\n",
       "      <th>2095</th>\n",
       "      <td>0</td>\n",
       "      <td>187274.0</td>\n",
       "    </tr>\n",
       "    <tr>\n",
       "      <th>2096</th>\n",
       "      <td>0</td>\n",
       "      <td>187284.0</td>\n",
       "    </tr>\n",
       "    <tr>\n",
       "      <th>2097</th>\n",
       "      <td>0</td>\n",
       "      <td>187318.0</td>\n",
       "    </tr>\n",
       "    <tr>\n",
       "      <th>2098</th>\n",
       "      <td>1</td>\n",
       "      <td>187362.0</td>\n",
       "    </tr>\n",
       "    <tr>\n",
       "      <th>2099</th>\n",
       "      <td>0</td>\n",
       "      <td>187417.0</td>\n",
       "    </tr>\n",
       "    <tr>\n",
       "      <th>2100</th>\n",
       "      <td>1</td>\n",
       "      <td>187639.0</td>\n",
       "    </tr>\n",
       "    <tr>\n",
       "      <th>2101</th>\n",
       "      <td>0</td>\n",
       "      <td>187686.0</td>\n",
       "    </tr>\n",
       "    <tr>\n",
       "      <th>2102</th>\n",
       "      <td>0</td>\n",
       "      <td>187722.0</td>\n",
       "    </tr>\n",
       "    <tr>\n",
       "      <th>2103</th>\n",
       "      <td>1</td>\n",
       "      <td>187739.0</td>\n",
       "    </tr>\n",
       "    <tr>\n",
       "      <th>2104</th>\n",
       "      <td>0</td>\n",
       "      <td>187761.0</td>\n",
       "    </tr>\n",
       "    <tr>\n",
       "      <th>2105</th>\n",
       "      <td>0</td>\n",
       "      <td>187764.0</td>\n",
       "    </tr>\n",
       "    <tr>\n",
       "      <th>2106</th>\n",
       "      <td>0</td>\n",
       "      <td>187818.0</td>\n",
       "    </tr>\n",
       "    <tr>\n",
       "      <th>2107</th>\n",
       "      <td>0</td>\n",
       "      <td>187847.0</td>\n",
       "    </tr>\n",
       "    <tr>\n",
       "      <th>2108</th>\n",
       "      <td>0</td>\n",
       "      <td>187902.0</td>\n",
       "    </tr>\n",
       "    <tr>\n",
       "      <th>2109</th>\n",
       "      <td>0</td>\n",
       "      <td>187922.0</td>\n",
       "    </tr>\n",
       "    <tr>\n",
       "      <th>2110</th>\n",
       "      <td>0</td>\n",
       "      <td>188141.0</td>\n",
       "    </tr>\n",
       "    <tr>\n",
       "      <th>2111</th>\n",
       "      <td>1</td>\n",
       "      <td>188185.0</td>\n",
       "    </tr>\n",
       "    <tr>\n",
       "      <th>2112</th>\n",
       "      <td>0</td>\n",
       "      <td>188225.0</td>\n",
       "    </tr>\n",
       "    <tr>\n",
       "      <th>2113</th>\n",
       "      <td>0</td>\n",
       "      <td>188435.0</td>\n",
       "    </tr>\n",
       "    <tr>\n",
       "      <th>2114</th>\n",
       "      <td>0</td>\n",
       "      <td>188439.0</td>\n",
       "    </tr>\n",
       "    <tr>\n",
       "      <th>2115</th>\n",
       "      <td>0</td>\n",
       "      <td>188492.0</td>\n",
       "    </tr>\n",
       "    <tr>\n",
       "      <th>2116</th>\n",
       "      <td>0</td>\n",
       "      <td>188535.0</td>\n",
       "    </tr>\n",
       "    <tr>\n",
       "      <th>2117</th>\n",
       "      <td>0</td>\n",
       "      <td>188721.0</td>\n",
       "    </tr>\n",
       "    <tr>\n",
       "      <th>2118</th>\n",
       "      <td>0</td>\n",
       "      <td>188727.0</td>\n",
       "    </tr>\n",
       "    <tr>\n",
       "      <th>2119</th>\n",
       "      <td>0</td>\n",
       "      <td>188835.0</td>\n",
       "    </tr>\n",
       "    <tr>\n",
       "      <th>2120</th>\n",
       "      <td>0</td>\n",
       "      <td>188980.0</td>\n",
       "    </tr>\n",
       "    <tr>\n",
       "      <th>2121</th>\n",
       "      <td>0</td>\n",
       "      <td>188999.0</td>\n",
       "    </tr>\n",
       "  </tbody>\n",
       "</table>\n",
       "<p>2122 rows × 2 columns</p>\n",
       "</div>"
      ],
      "text/plain": [
       "      TARGET_B  CONTROL_NUMBER\n",
       "0            0           139.0\n",
       "1            0           142.0\n",
       "2            0           282.0\n",
       "3            0           368.0\n",
       "4            1           387.0\n",
       "5            0           458.0\n",
       "6            0           564.0\n",
       "7            0           665.0\n",
       "8            0           702.0\n",
       "9            0           743.0\n",
       "10           0           788.0\n",
       "11           0           790.0\n",
       "12           0           804.0\n",
       "13           0           917.0\n",
       "14           0           968.0\n",
       "15           1          1012.0\n",
       "16           0          1245.0\n",
       "17           0          1280.0\n",
       "18           0          1400.0\n",
       "19           0          1493.0\n",
       "20           1          1799.0\n",
       "21           1          1920.0\n",
       "22           1          2085.0\n",
       "23           0          2168.0\n",
       "24           0          2315.0\n",
       "25           0          2340.0\n",
       "26           0          2431.0\n",
       "27           0          2678.0\n",
       "28           0          2691.0\n",
       "29           1          2861.0\n",
       "...        ...             ...\n",
       "2092         0        186647.0\n",
       "2093         0        186989.0\n",
       "2094         0        187074.0\n",
       "2095         0        187274.0\n",
       "2096         0        187284.0\n",
       "2097         0        187318.0\n",
       "2098         1        187362.0\n",
       "2099         0        187417.0\n",
       "2100         1        187639.0\n",
       "2101         0        187686.0\n",
       "2102         0        187722.0\n",
       "2103         1        187739.0\n",
       "2104         0        187761.0\n",
       "2105         0        187764.0\n",
       "2106         0        187818.0\n",
       "2107         0        187847.0\n",
       "2108         0        187902.0\n",
       "2109         0        187922.0\n",
       "2110         0        188141.0\n",
       "2111         1        188185.0\n",
       "2112         0        188225.0\n",
       "2113         0        188435.0\n",
       "2114         0        188439.0\n",
       "2115         0        188492.0\n",
       "2116         0        188535.0\n",
       "2117         0        188721.0\n",
       "2118         0        188727.0\n",
       "2119         0        188835.0\n",
       "2120         0        188980.0\n",
       "2121         0        188999.0\n",
       "\n",
       "[2122 rows x 2 columns]"
      ]
     },
     "execution_count": 96,
     "metadata": {},
     "output_type": "execute_result"
    }
   ],
   "source": [
    "PREDICTED_df = pd.DataFrame()\n",
    "PREDICTED_df['TARGET_B'] = Target\n",
    "PREDICTED_df['CONTROL_NUMBER'] = dataset_test['CONTROL_NUMBER']\n",
    "PREDICTED_df"
   ]
  },
  {
   "cell_type": "code",
   "execution_count": 95,
   "metadata": {},
   "outputs": [],
   "source": [
    "PREDICTED_df.to_csv('PREDICTED_df.csv')"
   ]
  },
  {
   "cell_type": "code",
   "execution_count": null,
   "metadata": {},
   "outputs": [],
   "source": []
  }
 ],
 "metadata": {
  "colab": {
   "collapsed_sections": [],
   "name": "ML ASSIGNMENT - FINAL .ipynb",
   "provenance": []
  },
  "kernelspec": {
   "display_name": "Python 3 (ipykernel)",
   "language": "python",
   "name": "python3"
  },
  "language_info": {
   "codemirror_mode": {
    "name": "ipython",
    "version": 3
   },
   "file_extension": ".py",
   "mimetype": "text/x-python",
   "name": "python",
   "nbconvert_exporter": "python",
   "pygments_lexer": "ipython3",
   "version": "3.9.7"
  },
  "toc": {
   "base_numbering": 1,
   "nav_menu": {},
   "number_sections": true,
   "sideBar": true,
   "skip_h1_title": false,
   "title_cell": "Table of Contents",
   "title_sidebar": "Contents",
   "toc_cell": false,
   "toc_position": {},
   "toc_section_display": true,
   "toc_window_display": false
  }
 },
 "nbformat": 4,
 "nbformat_minor": 1
}
